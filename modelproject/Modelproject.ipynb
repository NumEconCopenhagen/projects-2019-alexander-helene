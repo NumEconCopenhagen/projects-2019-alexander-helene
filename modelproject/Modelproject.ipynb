{
 "cells": [
  {
   "cell_type": "code",
   "execution_count": 4,
   "metadata": {},
   "outputs": [],
   "source": [
    "import numpy as np\n",
    "import scipy as sp\n",
    "from scipy import linalg\n",
    "from scipy import optimize\n",
    "from scipy import interpolate\n",
    "import sympy as sm\n",
    "\n",
    "%matplotlib inline\n",
    "import matplotlib.pyplot as plt\n",
    "from matplotlib import cm\n",
    "from mpl_toolkits.mplot3d import Axes3D\n",
    "\n",
    "import pickle\n",
    "import numpy as np\n",
    "\n",
    "from scipy.stats import norm # normal distribution\n",
    "\n",
    "%matplotlib inline\n",
    "import matplotlib.pyplot as plt\n",
    "import ipywidgets as widgets"
   ]
  },
  {
   "cell_type": "markdown",
   "metadata": {},
   "source": [
    "# Model foundation\n",
    "Consider a risk neutral company wanting to go public. The company can either choose a regular book building process or do an IPO Auction. If they perform the latter, the company will sell $Q$ perfectly divisible shares at an auction, with the objective to maximise the expected revenue. \n",
    "\n",
    "There are $N>2$ risk averse (informed) competitive bidders (i.e. institutional investors as pension funds, asset managers, insurance companies, etc.). Risk aversion is modelled through constant absolute risk aversion (CARA) utility preferences with the common Arrow-Pratt risk aversion parameter $\\rho \\geq 0$, corresponding to an exponential utility function. We assume that bidders' goal is to maximise their utility (or as we will see later; expected utility). \n",
    "%\n",
    "\\begin{align} \\label{eq:CARA}\n",
    "U_i(\\pi_i)=-e^{-\\rho \\pi_i}\n",
    "\\end{align}\n",
    "\n",
    "As with all stocks, the common value of the stock is given by the resale price in the secondary market, which theoretically should reflect the present value of all future cash flows. However, the after market price is unknown at the time of the bid, therefore we denote the intrinsic value of the asset by the random variable $v \\in V$. The prior distribution of $V$ is common knowledge to the bidders, the corresponding \\textit{cdf} is denoted $F(v)$ and the \\textit{pdf} $f(v)$.\n",
    "\n",
    "Each competitive bidder ($i=1, 2, \\dots, N$) submits a bid schedule $x_i(p,s_i)$ dependent on the realisation of their private signal $s_i\\in S$, where $S$ is a signal space with a possible infinite number of elements, and the price $p$. we will assume that the bidder's conditional expected value, the conditional mean ($E[v]=\\bar{v}\\geq 0$), and the variance ($Var[v]=\\tau_v^{-1}$) are well defined.\n",
    "\n",
    "# The Parametric Model\n",
    "We go straight to the parametric model, as it is the interesting part code wise.\n",
    "\n",
    "The common value of the asset is $v \\sim N(\\bar{v}, \\tau_v^{-1})$. Where the variance of the asset $v$, $\\tau_v^{-1}$, can be seen as valuation dispersion, i.e. $\\tau_v^{-1}$ measures how precisely the general public can asses the value of the company. In this sense, more complex issuing companies may lead to a higher variance. The total supply of the asset is given by $Q$.\n",
    "\n",
    "The parametric IPO auction consists of two stages\n",
    "\n",
    "1 Each competitive bidder $i$ chooses $\\eta_i$, independently from, and simultaneously with, his opponents.\n",
    "\n",
    "2 After observing the realisation of their private signal $s_{\\eta i}$, but not their opponents signals nor their choice of $\\eta_j$ ($j \\neq i$), each competitive bidder $i$ bid for the shares at the IPO auction. \n",
    "\n",
    "In order to solve this parametric model, we postulate that there exist a unique symmetric equilibrium in linear strategies $x_i = \\mu + \\beta s_{\\eta i} - \\gamma p$, for which we determine the coefficients and show the strategy is optimal in equilibrium. This is a unique symmetric equilibrium in linear strategies where all bidders chose the signal precision $\\eta$. This equilibrium is characterised by:\n",
    "\n",
    "\\begin{align} \\label{eq:bidschedule}\n",
    "x_i = \\mu + \\beta s_{\\eta i} - \\gamma p, \\quad i=1, 2, \\dots, N\n",
    "\\end{align}\n",
    "\n",
    "After skipping alot of computation the equilibrium strategy  $\\gamma$, $\\mu$ and $\\beta$, which are given as:\n",
    "\n",
    "\\begin{align} \\label{eq:betaroot}\n",
    "\\rho \\tau_{\\eta \\epsilon}^{-1} \\beta^3 + \\frac{N}{N-1} \\beta^2 + \\frac{\\rho \\tau_z^{-1}}{N-1}\\beta - \\frac{(N-2) \\tau_{\\eta \\epsilon}\\tau_z^{-1}}{(N-1)^2}=0\n",
    "\\end{align}"
   ]
  },
  {
   "cell_type": "markdown",
   "metadata": {},
   "source": [
    "\n",
    "\\begin{align}\n",
    "\\gamma &= \\frac{\\beta \\tau_\\eta - \\phi \\tau_{\\eta \\epsilon}(N-1) \\gamma }{ \\frac{\\tau_{\\eta \\epsilon}}{ \\left( \\lambda \\tau_\\eta + \\rho + \\frac{\\phi \\tau_{\\eta \\epsilon} }{\\beta} \\right)} \\left( \\lambda \\tau_\\eta + \\rho + \\frac{\\phi \\tau_{\\eta \\epsilon} }{\\beta} \\right)} \n",
    "\\end{align}\n",
    "\n",
    "\\begin{align}\n",
    "\\mu &= \\frac{\\tau_v \\beta \\bar{v} + \\phi \\tau_{\\eta \\epsilon} (1-(N-1)\\mu)}{\\frac{\\tau_{\\eta \\epsilon} }{\\lambda \\tau_\\eta + \\rho + \\frac{\\phi \\tau_{\\eta \\epsilon} }{\\beta}} \\left( \\lambda \\tau_\\eta + \\rho + \\frac{\\phi \\tau_{\\eta \\epsilon} }{\\beta} \\right)} \\nonumber \\\\\n",
    "\\end{align}"
   ]
  },
  {
   "cell_type": "markdown",
   "metadata": {},
   "source": [
    "We will isolate $\\mu$ and $\\gamma$ as a function of $\\beta$:"
   ]
  },
  {
   "cell_type": "code",
   "execution_count": 26,
   "metadata": {},
   "outputs": [],
   "source": [
    "# First we define all needed symbols\n",
    "N = sm.symbols('N') # Number of bidders\n",
    "rho = sm.symbols('rho') # Risk averision (CARA)\n",
    "vbar = sm.symbols('vbar') # Expected Value E[v]\n",
    "tauv = sm.symbols('tauv') # inverse varianse of value\n",
    "taue = sm.symbols('taue') # inverse varianse of signal\n",
    "beta = sm.symbols('beta') # what we call the effect of the signal before we numerically solve the third degree equation\n",
    "tauz = sm.symbols('tauz') # inverse varianse of z. z is in this project only included for computational reasons\n",
    "Lambda = sm.symbols('Lambda')  \n",
    "gamma = sm.symbols('gamma')\n",
    "mu = sm.symbols('mu')\n",
    "phi = sm.symbols('phi')\n",
    "x = sm.symbols('x') # Effect of the signal. It is described as beta above, but in the code we use x for convinense. "
   ]
  },
  {
   "cell_type": "code",
   "execution_count": 10,
   "metadata": {},
   "outputs": [
    {
     "data": {
      "text/plain": [
       "[beta*taue/(N*phi - phi + taue)]"
      ]
     },
     "execution_count": 10,
     "metadata": {},
     "output_type": "execute_result"
    }
   ],
   "source": [
    "# We begin by isolating gamma\n",
    "tau = taue + tauv + tauz # Tau is the variance of the expected valuation\n",
    "cogamma = sm.solve((beta*taue - phi*(N-1)*gamma)/((taue/(Lambda*tau+rho+(phi*taue)/beta))*(Lambda*tau+rho+(phi*taue)/beta))-gamma, gamma)\n",
    "cogamma"
   ]
  },
  {
   "cell_type": "markdown",
   "metadata": {},
   "source": [
    "Unfurtunatly we could not get the result of the paper which is\n",
    "\n",
    "\\begin{align}\n",
    "\\gamma = \\beta \\left(1+ \\frac{\\tau_v}{\\tau_{\\eta \\epsilon}(1+ \\phi (N-1))} \\right)\n",
    "\\end{align}\n",
    "\n",
    "And for some unknown reason our later results did not make sence if we used the above result."
   ]
  },
  {
   "cell_type": "code",
   "execution_count": 11,
   "metadata": {},
   "outputs": [
    {
     "data": {
      "text/plain": [
       "[(beta*tauv*vbar - phi*taue)/(taue*(-N*phi + phi + 1))]"
      ]
     },
     "execution_count": 11,
     "metadata": {},
     "output_type": "execute_result"
    }
   ],
   "source": [
    "# We then isolate mu\n",
    "comu = sm.solve((beta*tauv*vbar - phi*taue*(1-(N-1)*mu))/((taue/(Lambda*tau+rho+(phi*taue)/beta))*(Lambda*tau+rho+(phi*taue)/beta))-mu, mu)\n",
    "comu"
   ]
  },
  {
   "cell_type": "markdown",
   "metadata": {},
   "source": [
    "Again it is not quite the same as in the article which is:\n",
    "\\begin{align}\n",
    "\\mu &= (\\gamma-\\beta) \\bar{v} + \\frac{\\phi}{1+(N-1)\\phi} \\label{eq:mu}\n",
    "\\end{align}\n",
    "But solving the equations was more to see how the scipy function worked."
   ]
  },
  {
   "cell_type": "markdown",
   "metadata": {},
   "source": [
    "The last equation that will be needed but not explained is  $\\phi$ which you just need to know is the price efficiency. Hence \n",
    "\\begin{align}\n",
    "\\phi &= \\frac{(N-1)\\beta^2}{(N-1)\\beta^2 + \\tau_{\\eta \\epsilon}\\tau_z^{-1}} \\in \\left( 0, \\frac{N-2}{2(N-1)} \\right) \\label{eq:phi}\n",
    "\\end{align}\n",
    "\n",
    "Solving for the optimal bidding strategy we can analyse what, and how information and risk-aversion will affect the expected price\n",
    "\n",
    "\\begin{align}\n",
    "E[p]&= \\bar{v} - \\frac{1-\\phi}{N \\gamma (1+(N-1)\\phi)}\n",
    "\\end{align}\n",
    "\n",
    "### The properties of the parametric model\n",
    "In the optimal bidding strategy, $\\gamma$ is the slope of each bidder's bid schedule. Thus, $\\gamma$ is a measure for price elasticity in equilibrium. $\\beta$ represents the bidders' responsiveness to their private signal. $\\beta$ is positive at all times, indicating that bidders respond positively to their private signals. This fact arises from the affiliation between the signals and the true value. A strictly positive $\\beta$ implies that the competitive bidder who values the good the highest receives the largest share."
   ]
  },
  {
   "cell_type": "markdown",
   "metadata": {},
   "source": [
    "# Solving the model numerically"
   ]
  },
  {
   "cell_type": "markdown",
   "metadata": {},
   "source": [
    "### Newtons and Halleys method"
   ]
  },
  {
   "cell_type": "markdown",
   "metadata": {},
   "source": [
    "#### Disclaimer This is taken from the lecture!!!\n",
    "\n",
    "We consider solving non-linear equations on the form,\n",
    "\n",
    "$$ f(x) = 0, x \\in \\mathbb{R} $$\n",
    "\n",
    "This is called root-finding.\n",
    "\n",
    "Derivative based methods\n",
    "Newton methods: Assume you know the function value and derivatives at $x_0$.\n",
    "\n",
    "A first order approximate value of the function at $x_1$ then is:\n",
    "\n",
    "$$ f(x_1) \\approx f(x_0) + f^{\\prime}(x_0)(x_1-x_0)$$\n",
    "\n",
    "implying\n",
    "\n",
    "$$ f(x_1) = 0 \\Leftrightarrow x_1 = x_0 - \\frac{f(x_0)}{f^{\\prime}(x_0)} $$\n",
    "\n",
    "This is called Newtons method.\n",
    "\n",
    "An alternative is Halleys method, which uses\n",
    "\n",
    "$$ x_1 = x_0 - \\frac{f(x_0)}{f^{\\prime}(x_0)} \\Big[ 1-\\frac{f(x_0)}{f^{\\prime}(x_0)}\\frac{f^{\\prime\\prime}(x_0)}{2f^{\\prime}(x_0)} \\Big]^{-1} $$\n",
    "\n",
    "making use of information from the second derivative.\n",
    "\n",
    "Algorithm: find_root()\n",
    "\n",
    "Choose tolerance $\\epsilon &gt; 0$, guess on $x_0$ and set $n = 0$.\n",
    "\n",
    "Calculate $f(x_n)$, $f^{\\prime}(x_n)$, and perhaps $f^{\\prime\\prime}(x_n)$.\n",
    "If $|f(x_n)| &lt; \\epsilon$ stop.\n",
    "\n",
    "Calculate $x_{n+1}$ using Newtons or Halleys formula (see above).\n",
    "\n",
    "Set $n = n + 1$ and return to step 2."
   ]
  },
  {
   "cell_type": "code",
   "execution_count": 22,
   "metadata": {},
   "outputs": [],
   "source": [
    "def find_root(x0,f,fp,fpp=None,method='newton',max_iter=1000,tol=1e-8,full_info=False):\n",
    "    \"\"\" find root\n",
    "        \n",
    "    Args:\n",
    "    \n",
    "        x0 (float): initial value\n",
    "        f (callable): function\n",
    "        fp (callable): derivative\n",
    "        fp (callable): second derivative\n",
    "        method (str): newton or halley\n",
    "        max_iter (int): maximum number of iterations\n",
    "        tol (float): tolerance\n",
    "        full_info (bool): controls information returned\n",
    "        \n",
    "    Returns:\n",
    "    \n",
    "        x (float/ndarray): root (if full_info, all x tried)\n",
    "        i (int): number of iterations used\n",
    "        fx (ndarray): function values used (if full_info) \n",
    "        fpx (ndarray): derivative values used (if full_info)\n",
    "        fppx (ndarray): second derivative values used (if full_info)\n",
    "        \n",
    "    \"\"\"\n",
    "    \n",
    "    # initialize\n",
    "    x = np.zeros(max_iter)\n",
    "    fx = np.zeros(max_iter)\n",
    "    fpx = np.zeros(max_iter)\n",
    "    fppx = np.zeros(max_iter)\n",
    "    x[0] = x0\n",
    "    i = 0\n",
    "    \n",
    "    # iterate\n",
    "    while True:\n",
    "        \n",
    "        # step 2: evaluate function and derivatives\n",
    "        fx[i] = f(x[i])\n",
    "        fpx[i] = fp(x[i])\n",
    "        if method == 'halley':\n",
    "            fppx[i] = fpp(x[i])\n",
    "        \n",
    "        # step 3: check convergence\n",
    "        if abs(fx[i]) < tol or i >= max_iter:\n",
    "            break\n",
    "            \n",
    "        # step 4: update x\n",
    "        if method == 'newton':\n",
    "            x[i+1] = x[i] - fx[i]/fpx[i]\n",
    "        elif method == 'halley':\n",
    "            a = fx[i]/fpx[i]\n",
    "            b = a*fppx[i]/(2*fpx[i])\n",
    "            x[i+1] = x[i] - a/(1-b)\n",
    "        \n",
    "        # step 5: increment counter\n",
    "        i += 1\n",
    "        \n",
    "    # return\n",
    "    if full_info:\n",
    "        return x,i,fx,fpx,fppx\n",
    "    else:\n",
    "        return x[i],i"
   ]
  },
  {
   "cell_type": "markdown",
   "metadata": {},
   "source": [
    "## Testing which method is best at approximating beta"
   ]
  },
  {
   "cell_type": "code",
   "execution_count": 47,
   "metadata": {},
   "outputs": [],
   "source": [
    "# define exogen paramters as a test\n",
    "\n",
    "N = 50\n",
    "rho = 50\n",
    "vbar = 1\n",
    "tauv = 5\n",
    "taue = 8\n",
    "tauz = 100"
   ]
  },
  {
   "cell_type": "code",
   "execution_count": null,
   "metadata": {},
   "outputs": [],
   "source": [
    "# We first look at the Halley method"
   ]
  },
  {
   "cell_type": "code",
   "execution_count": 58,
   "metadata": {},
   "outputs": [
    {
     "name": "stdout",
     "output_type": "stream",
     "text": [
      "[0.3952588048834892, 0.5231550828584473, 0.6134203714034683, 0.6796863553962017, 0.7298616333354655, 0.76881623679504, 0.7996946092420647, 0.8246058161319978, 0.8450092814271486, 0.861939567816909, 0.8761528091140007, 0.8882055123366049, 0.8985191064015454, 0.9074181899850148, 0.9151514726711859, 0.9219184550124406, 0.9278745117084513, 0.933146456439869, 0.9378360643302379, 0.9420281881465141, 0.9457914900499584, 0.9491835091182154, 0.9522526218367751, 0.955038575933651, 0.9575760443827032, 0.9598938834890098, 1.0016262488198961, 1.0013084500983698, 1.0011024332454055, 0.9674247700074815, 0.968960112808176, 0.9703832882922616, 1.0006531559851926, 0.972936584507568, 1.0005278323805777, 1.0004781249153234, 1.0004349325830781, 1.0003971304724364, 1.000363845792943, 1.0003343731375203, 0.9795940443628078, 0.9803301463397966, 0.981024815195463]\n"
     ]
    }
   ],
   "source": [
    "def simulate_expected_p(tauz,taue,tauv,rho,vbar,N):\n",
    "    f = lambda x: rho*taue**(-1)*x**3+N/(N-1)*x**2+rho*tauz**(-1)/(N-1)*x-((N-2)*taue*tauz**(-1))/((N-1)**2) # The function (remember we x instead of beta)\n",
    "    fp = lambda x: 2*rho*taue**(-1)*x**2+N/(N-1)*x+rho*tauz**(-1)/(N-1) # First drivative\n",
    "    fpp = lambda x: 6*rho*taue**(-1)*x+N/(N-1) # Second derivatie\n",
    "    \n",
    "    x,i = find_root(-5,f,fp,fpp,method='halley') # Using the \"find root\" algorithm\n",
    "#    x,i = find_root(-5,f,fp,fpp,method='newton')\n",
    "   \n",
    "    phi = ((N-1)*x**2)/((N-1)*x**2+taue*tauz**(-1)) # When beta has been found we can insert it in phi which was price sensitivity \n",
    "    \n",
    "    gamma = x*(1+tauv*taue**(-1)/(1+(N-1)*phi)) # Phi and beta can be inserted into gamma\n",
    "    \n",
    "    expected_p = vbar-(1-phi)/(N*gamma*(1+(N-1)*phi)) # Which leads to us being able to compute expected price\n",
    "        \n",
    "    return expected_p\n",
    "\n",
    "#defining loop that lets us look at expected price over N\n",
    "expected_p_list = []\n",
    "for N in range(7,50):\n",
    "    \n",
    "    expected_p_list.append(simulate_expected_p(tauz,taue,tauv,rho,vbar,N))\n",
    "print(expected_p_list)"
   ]
  },
  {
   "cell_type": "code",
   "execution_count": 60,
   "metadata": {},
   "outputs": [
    {
     "data": {
      "image/png": "[encoded data removed]",
      "text/plain": [
       "<Figure size 432x288 with 1 Axes>"
      ]
     },
     "metadata": {
      "needs_background": "light"
     },
     "output_type": "display_data"
    }
   ],
   "source": [
    "# plotting figure\n",
    "fig = plt.figure()\n",
    "ax = fig.add_subplot(1,1,1)\n",
    "\n",
    "ax.plot(expected_p_list[7:50],'r--',label=\"Expected Price\")\n",
    "plt.legend()\n",
    "plt.title(\"Expected price over N\")\n",
    "plt.xlabel('Number of participants')\n",
    "plt.ylabel('price')\n",
    "plt.show()"
   ]
  },
  {
   "cell_type": "markdown",
   "metadata": {},
   "source": [
    "As seen in the figure above it is not smooth at all which means the \"halleys\" method is not a good way to approximate beta. Thus we try with the newton method."
   ]
  },
  {
   "cell_type": "code",
   "execution_count": 61,
   "metadata": {},
   "outputs": [
    {
     "name": "stdout",
     "output_type": "stream",
     "text": [
      "[0.395258674025628, 0.5231549566509033, 0.6134194700748861, 0.6796872216925881, 0.7298624852759854, 0.7688162407355085, 0.7996954365972444, 0.8246064472505937, 0.845008704791858, 0.8619401879792398, 0.876152717861291, 0.8882048843025689, 0.8985191165680196, 0.9074176432892418, 0.9151514616319281, 0.9219184843084098, 0.9278740725931013, 0.9331459578610027, 0.9378360282505352, 0.9420286719114582, 0.9457919326783959, 0.9491835003460157, 0.9522522384006388, 0.9550381525056313, 0.9575756635188839, 0.9598938659740973, 1.0016262514168346, 1.0013084343042948, 1.001102420569103, 1.000949905077947, 1.0008303458854892, 1.000733450237346, 1.0006531524087527, 1.0005855194214102, 1.0005278298570737, 1.0004781230647142, 1.000434930355825, 1.0003971308531865, 1.000363844393682, 1.0003343721766234, 1.000308149868454, 1.0002847185198993, 1.00026369759772]\n"
     ]
    }
   ],
   "source": [
    "def simulate_expected_p(tauz,taue,tauv,rho,vbar,N):\n",
    "    f = lambda x: rho*taue**(-1)*x**3+N/(N-1)*x**2+rho*tauz**(-1)/(N-1)*x-((N-2)*taue*tauz**(-1))/((N-1)**2) # The function (remember we x instead of beta)\n",
    "    fp = lambda x: 2*rho*taue**(-1)*x**2+N/(N-1)*x+rho*tauz**(-1)/(N-1) # First drivative\n",
    "    fpp = lambda x: 6*rho*taue**(-1)*x+N/(N-1) # Second derivatie\n",
    "    \n",
    "#   x,i = find_root(-5,f,fp,fpp,method='halley') # Using the \"find root\" algorithm\n",
    "    x,i = find_root(-5,f,fp,fpp,method='newton')\n",
    "   \n",
    "    phi = ((N-1)*x**2)/((N-1)*x**2+taue*tauz**(-1)) # When beta has been found we can insert it in phi which was price sensitivity \n",
    "    \n",
    "    gamma = x*(1+tauv*taue**(-1)/(1+(N-1)*phi)) # Phi and beta can be inserted into gamma\n",
    "    \n",
    "    expected_p = vbar-(1-phi)/(N*gamma*(1+(N-1)*phi)) # Which leads to us being able to compute expected price\n",
    "        \n",
    "    return expected_p\n",
    "\n",
    "#defining loop that lets us look at expected price over N\n",
    "expected_p_list = []\n",
    "for N in range(7,50):\n",
    "    \n",
    "    expected_p_list.append(simulate_expected_p(tauz,taue,tauv,rho,vbar,N))\n",
    "print(expected_p_list)"
   ]
  },
  {
   "cell_type": "code",
   "execution_count": 64,
   "metadata": {},
   "outputs": [
    {
     "data": {
      "image/png": "[encoded data removed]",
      "text/plain": [
       "<Figure size 432x288 with 1 Axes>"
      ]
     },
     "metadata": {
      "needs_background": "light"
     },
     "output_type": "display_data"
    }
   ],
   "source": [
    "# plotting figure\n",
    "fig = plt.figure()\n",
    "ax = fig.add_subplot(1,1,1)\n",
    "\n",
    "ax.plot(expected_p_list[7:50],'r--',label=\"Expected Price\")\n",
    "plt.legend()\n",
    "plt.title(\"Expected price over N\")\n",
    "plt.xlabel('Number of participants')\n",
    "plt.ylabel('price')\n",
    "plt.show()"
   ]
  },
  {
   "cell_type": "markdown",
   "metadata": {},
   "source": [
    "This figure is much better and we are now ready to interpret how different parameters affect the expected price. We wil do that with an interactive figure."
   ]
  },
  {
   "cell_type": "code",
   "execution_count": 65,
   "metadata": {},
   "outputs": [],
   "source": [
    "def interactive_figure(tauz,taue,tauv,rho,vbar,N):\n",
    "    \n",
    "    # a.\n",
    "    expected_p_list = []\n",
    "    for N in range(3,50):\n",
    "        expected_p_list.append(simulate_expected_p(tauz,taue,tauv,rho,vbar,N))\n",
    "    \n",
    "    # b. figure\n",
    "    fig = plt.figure()\n",
    "    ax = fig.add_subplot(1,1,1)\n",
    "\n",
    "    ax.plot(expected_p_list[3:50],'r--',label=\"Expected Price\")\n",
    "    plt.legend()\n",
    "    plt.title(\"Expected price over N\")\n",
    "    plt.xlabel('N')\n",
    "    plt.ylabel('price')\n",
    "    plt.show()\n",
    "    "
   ]
  },
  {
   "cell_type": "markdown",
   "metadata": {},
   "source": [
    "# Conclusion\n",
    "First as a note, the full price of the company is one. Also when you play around with the figure remember it is the inverse of the variance hence low values means high variance and vice versa.\n",
    "\n",
    "First of you wil notice that the more who participate the higher the expected price will be, no matter the bidders information or riskaversion. Hence, the auctioner or the invetment bankers in this case whishes to promote the issued company as much as possible such that moste people participate. The reason for this mechanism is just basic demand and supply. However there are also other explanasions to this correlation, which is evolvs around bidshading. The fewer people participating them more power over price they have, and thus will not bid their true value.\n",
    "\n",
    "If you start sliding the riskaversion you will see that the less riskavers people are the fewer is needed to reach an expected price of one. That is due to people not being \"afraid\" of winners curse meaning paying too much given the others bids. \n",
    "\n",
    "When sliding the variance it makes the most sense if the riskaverse button is all the way to the right. Here you will see that more accurate information leads to higher expected price, thus the auctioneer would want to provide bidders with as much information as possible."
   ]
  },
  {
   "cell_type": "code",
   "execution_count": 71,
   "metadata": {},
   "outputs": [
    {
     "data": {
      "application/vnd.jupyter.widget-view+json": {
       "model_id": "a12d14fefb884e418fc789f118fa21ec",
       "version_major": 2,
       "version_minor": 0
      },
      "text/plain": [
       "interactive(children=(FloatSlider(value=8.0, description='$Variance of signal$', max=25.0, min=8.0, step=1.0, …"
      ]
     },
     "metadata": {},
     "output_type": "display_data"
    }
   ],
   "source": [
    "style = {'description_width': 'initial'} # this is used to make place for the longer descrpitions at the slidebar\n",
    "widgets.interact(interactive_figure,\n",
    "    N=widgets.fixed(N),\n",
    "    tauz=widgets.fixed(tauz),\n",
    "    vbar=widgets.fixed(vbar),\n",
    "    rho=widgets.FloatSlider(description=\"$Risk aversion$\", min=30, max=100, step=2, value=1,style=style),\n",
    "    taue=widgets.FloatSlider(description=\"$Variance of signal$\", min=8, max=25, step=1, value=1, style=style),\n",
    "    tauv=widgets.FloatSlider(description=\"$Variance of value$\", min=5, max=100, step=1, value=1, style=style),\n",
    ");"
   ]
  }
 ],
 "metadata": {
  "kernelspec": {
   "display_name": "Python 3",
   "language": "python",
   "name": "python3"
  },
  "language_info": {
   "codemirror_mode": {
    "name": "ipython",
    "version": 3
   },
   "file_extension": ".py",
   "mimetype": "text/x-python",
   "name": "python",
   "nbconvert_exporter": "python",
   "pygments_lexer": "ipython3",
   "version": "3.7.1"
  }
 },
 "nbformat": 4,
 "nbformat_minor": 2
}
