{
 "cells": [
  {
   "cell_type": "code",
   "execution_count": 1,
   "metadata": {},
   "outputs": [],
   "source": [
    "import numpy as np\n",
    "import scipy as sp\n",
    "from scipy import linalg\n",
    "from scipy import optimize\n",
    "from scipy import interpolate\n",
    "import sympy as sm\n",
    "\n",
    "%matplotlib inline\n",
    "import matplotlib.pyplot as plt\n",
    "from matplotlib import cm\n",
    "from mpl_toolkits.mplot3d import Axes3D\n",
    "\n",
    "import pickle\n",
    "import numpy as np\n",
    "\n",
    "from scipy.stats import norm # normal distribution\n",
    "\n",
    "%matplotlib inline\n",
    "import matplotlib.pyplot as plt\n",
    "import ipywidgets as widgets"
   ]
  },
  {
   "cell_type": "code",
   "execution_count": 2,
   "metadata": {},
   "outputs": [],
   "source": [
    "# Define all symbols\n",
    "N = sm.symbols('N')\n",
    "rho = sm.symbols('rho')\n",
    "vbar = sm.symbols('vbar')\n",
    "tauv = sm.symbols('tauv')\n",
    "taue = sm.symbols('taue')\n",
    "tauz = sm.symbols('tauz')\n",
    "S = sm.symbols('S')\n",
    "x = sm.symbols('x')"
   ]
  },
  {
   "cell_type": "code",
   "execution_count": 4,
   "metadata": {},
   "outputs": [],
   "source": [
    "def find_root(x0,f,fp,fpp=None,method='newton',max_iter=1000,tol=1e-8,full_info=False):\n",
    "    \"\"\" find root\n",
    "        \n",
    "    Args:\n",
    "    \n",
    "        x0 (float): initial value\n",
    "        f (callable): function\n",
    "        fp (callable): derivative\n",
    "        fp (callable): second derivative\n",
    "        method (str): newton or halley\n",
    "        max_iter (int): maximum number of iterations\n",
    "        tol (float): tolerance\n",
    "        full_info (bool): controls information returned\n",
    "        \n",
    "    Returns:\n",
    "    \n",
    "        x (float/ndarray): root (if full_info, all x tried)\n",
    "        i (int): number of iterations used\n",
    "        fx (ndarray): function values used (if full_info) \n",
    "        fpx (ndarray): derivative values used (if full_info)\n",
    "        fppx (ndarray): second derivative values used (if full_info)\n",
    "        \n",
    "    \"\"\"\n",
    "    \n",
    "    # initialize\n",
    "    x = np.zeros(max_iter)\n",
    "    fx = np.zeros(max_iter)\n",
    "    fpx = np.zeros(max_iter)\n",
    "    fppx = np.zeros(max_iter)\n",
    "    x[0] = x0\n",
    "    i = 0\n",
    "    \n",
    "    # iterate\n",
    "    while True:\n",
    "        \n",
    "        # step 2: evaluate function and derivatives\n",
    "        fx[i] = f(x[i])\n",
    "        fpx[i] = fp(x[i])\n",
    "        if method == 'halley':\n",
    "            fppx[i] = fpp(x[i])\n",
    "        \n",
    "        # step 3: check convergence\n",
    "        if abs(fx[i]) < tol or i >= max_iter:\n",
    "            break\n",
    "            \n",
    "        # step 4: update x\n",
    "        if method == 'newton':\n",
    "            x[i+1] = x[i] - fx[i]/fpx[i]\n",
    "        elif method == 'halley':\n",
    "            a = fx[i]/fpx[i]\n",
    "            b = a*fppx[i]/(2*fpx[i])\n",
    "            x[i+1] = x[i] - a/(1-b)\n",
    "        \n",
    "        # step 5: increment counter\n",
    "        i += 1\n",
    "        \n",
    "    # return\n",
    "    if full_info:\n",
    "        return x,i,fx,fpx,fppx\n",
    "    else:\n",
    "        return x[i],i"
   ]
  },
  {
   "cell_type": "code",
   "execution_count": 5,
   "metadata": {},
   "outputs": [],
   "source": [
    "def plot_find_root(x0,f,fp,fpp=None,method='newton',xmin=-2,xmax=2,xn=100):\n",
    "    \n",
    "    # a. find root and return all information \n",
    "    x,max_iter,fx,fpx,fppx = find_root(x0,f,fp,fpp=fpp,method=method,full_info=True)\n",
    "    \n",
    "    # b. compute function on grid\n",
    "    xvec = np.linspace(xmin,xmax,xn)\n",
    "    fxvec = f(xvec)\n",
    "    \n",
    "    # c. figure\n",
    "    def _figure(i):\n",
    "        \n",
    "        # i. approximation\n",
    "        if method == 'newton':\n",
    "            fapprox = fx[i] + fpx[i]*(xvec-x[i])\n",
    "        elif method == 'halley':\n",
    "            fapprox = fx[i] + fpx[i]*(xvec-x[i]) + fppx[i]*(xvec-x[i])**2  \n",
    "            \n",
    "        # ii. figure\n",
    "        fig = plt.figure(dpi=100)\n",
    "        ax = fig.add_subplot(1,1,1)\n",
    "        \n",
    "        ax.plot(xvec,fxvec,label='function') # on grid\n",
    "        ax.plot(x[i],fx[i],'o',color='black',label='current') # now\n",
    "        \n",
    "        if i < max_iter:            \n",
    "            ax.plot(xvec,fapprox,label='approximation') # approximation\n",
    "            ax.axvline(x[i+1],ls='--',lw=1,color='black') # cross zero\n",
    "            ax.plot(x[i+1],fx[i+1],'o',color='black',mfc='none',label='next')# next\n",
    "            \n",
    "        ax.legend(loc='lower right')\n",
    "        ax.grid(True)\n",
    "        ax.set_ylim([fxvec[0],fxvec[-1]])\n",
    "    \n",
    "    widgets.interact(_figure,\n",
    "        i=widgets.IntSlider(description=\"iterations\", min=0, max=max_iter, step=1, value=0)\n",
    "    );"
   ]
  },
  {
   "cell_type": "code",
   "execution_count": 6,
   "metadata": {},
   "outputs": [],
   "source": [
    "f = lambda x: rho*taue**(-1)*x**3+N/(N-1)*x**2+rho*tauz**(-1)/(N-1)*x-((N-2)*taue*tauz**(-1))/((N-1)**2)\n",
    "fp = lambda x: 2*rho*taue**(-1)*x**2+N/(N-1)*x+rho*tauz**(-1)/(N-1)\n",
    "fpp = lambda x: 6*rho*taue**(-1)*x+N/(N-1)"
   ]
  },
  {
   "cell_type": "code",
   "execution_count": 101,
   "metadata": {},
   "outputs": [
    {
     "name": "stdout",
     "output_type": "stream",
     "text": [
      "15 -0.1373611328262343 -4.715454822185744e-09\n"
     ]
    }
   ],
   "source": [
    "x,i = find_root(-5,f,fp,method='newton')\n",
    "print(i,x,f(x))"
   ]
  },
  {
   "cell_type": "code",
   "execution_count": 102,
   "metadata": {},
   "outputs": [
    {
     "name": "stdout",
     "output_type": "stream",
     "text": [
      "488 0.03250610600376851 -7.036919350174309e-09\n"
     ]
    }
   ],
   "source": [
    "x,i = find_root(-5,f,fp,fpp,method='halley')\n",
    "print(i,x,f(x))"
   ]
  },
  {
   "cell_type": "code",
   "execution_count": 9,
   "metadata": {},
   "outputs": [
    {
     "name": "stdout",
     "output_type": "stream",
     "text": [
      "0.34461704877838173\n"
     ]
    }
   ],
   "source": [
    "phi = ((N-1)*x**2)/((N-1)*x**2+taue*tauz**(-1))\n",
    "\n",
    "print(phi)"
   ]
  },
  {
   "cell_type": "code",
   "execution_count": 10,
   "metadata": {},
   "outputs": [],
   "source": [
    "gamma = x*(1+tauv*taue**(-1)/(1+(N-1)*phi))\n",
    "\n",
    "mu = (gamma-x)*vbar+phi/(1+(N-1)*phi)"
   ]
  },
  {
   "cell_type": "code",
   "execution_count": 11,
   "metadata": {},
   "outputs": [],
   "source": [
    "expected_p = vbar-(1-phi)/(N*gamma*(1+(N-1)*phi))"
   ]
  },
  {
   "cell_type": "code",
   "execution_count": 12,
   "metadata": {},
   "outputs": [
    {
     "name": "stdout",
     "output_type": "stream",
     "text": [
      "0.933146456439869\n"
     ]
    }
   ],
   "source": [
    "print(expected_p)"
   ]
  },
  {
   "cell_type": "code",
   "execution_count": 13,
   "metadata": {},
   "outputs": [
    {
     "name": "stdout",
     "output_type": "stream",
     "text": [
      "[-0.57285766  0.15460676  1.88962132 -0.61375061 -0.19281915]\n",
      "[-0.48191554  1.33225346  0.17746124 -0.36277234  0.33420864]\n",
      "[ 0.74458813 -0.9754828  -1.06964988 -0.8059237  -0.72620128]\n",
      "[-0.26237527 -0.98095578  0.31110254 -2.44698541 -0.37365272]\n",
      "[ 0.5822131   1.21328091 -1.08359425 -0.16391252 -0.77992027]\n",
      "[ 0.84572437 -0.25805504  1.66139132 -1.03819056 -1.8805486 ]\n",
      "[-0.22364569 -1.45709381 -0.20397665  0.11641236  2.10808609]\n",
      "[ 0.28761288 -0.04033583  1.5795458  -1.13171    -1.98449953]\n",
      "[ 1.1877004   0.1200026  -0.37438387 -1.17498088  0.08812497]\n",
      "[ 0.54201764  0.27595909 -0.9043619  -1.01938928 -0.62069439]\n"
     ]
    }
   ],
   "source": [
    "np.random.seed(1996)\n",
    "for _ in range(10):\n",
    "    print(np.random.normal(size=5))"
   ]
  },
  {
   "cell_type": "code",
   "execution_count": 93,
   "metadata": {},
   "outputs": [],
   "source": [
    "def simulate_expected_p(tauz,taue,tauv,rho,vbar,N):\n",
    "    f = lambda x: rho*taue**(-1)*x**3+N/(N-1)*x**2+rho*tauz**(-1)/(N-1)*x-((N-2)*taue*tauz**(-1))/((N-1)**2)\n",
    "    fp = lambda x: 2*rho*taue**(-1)*x**2+N/(N-1)*x+rho*tauz**(-1)/(N-1)\n",
    "    fpp = lambda x: 6*rho*taue**(-1)*x+N/(N-1)\n",
    "    \n",
    "# x,i = find_root(-5,f,fp,fpp,method='halley')\n",
    "    x,i = find_root(-5,f,fp,fpp,method='newton')\n",
    "   \n",
    "    phi = ((N-1)*x**2)/((N-1)*x**2+taue*tauz**(-1))\n",
    "    gamma = x*(1+tauv*taue**(-1)/(1+(N-1)*phi))\n",
    "    \n",
    "    expected_p = vbar-(1-phi)/(N*gamma*(1+(N-1)*phi))\n",
    "        \n",
    "    return expected_p"
   ]
  },
  {
   "cell_type": "code",
   "execution_count": 94,
   "metadata": {},
   "outputs": [
    {
     "name": "stdout",
     "output_type": "stream",
     "text": [
      "[0.395258674025628, 0.5231549566509033, 0.6134194700748861, 0.6796872216925881, 0.7298624852759854, 0.7688162407355085, 0.7996954365972444, 0.8246064472505937, 0.845008704791858, 0.8619401879792398, 0.876152717861291, 0.8882048843025689, 0.8985191165680196, 0.9074176432892418, 0.9151514616319281, 0.9219184843084098, 0.9278740725931013, 0.9331459578610027, 0.9378360282505352, 0.9420286719114582, 0.9457919326783959, 0.9491835003460157, 0.9522522384006388, 0.9550381525056313, 0.9575756635188839, 0.9598938659740973, 1.0016262514168346, 1.0013084343042948, 1.001102420569103, 1.000949905077947, 1.0008303458854892, 1.000733450237346, 1.0006531524087527, 1.0005855194214102, 1.0005278298570737, 1.0004781230647142, 1.000434930355825, 1.0003971308531865, 1.000363844393682, 1.0003343721766234, 1.000308149868454, 1.0002847185198993, 1.00026369759772]\n"
     ]
    }
   ],
   "source": [
    "expected_p_list = []\n",
    "for N in range(7,50):\n",
    "    expected_p_list.append(simulate_expected_p(tauz,taue,tauv,rho,vbar,N))\n",
    "print(expected_p_list)"
   ]
  },
  {
   "cell_type": "code",
   "execution_count": 95,
   "metadata": {},
   "outputs": [
    {
     "data": {
      "image/png": "[encoded data removed]",
      "text/plain": [
       "<Figure size 432x288 with 1 Axes>"
      ]
     },
     "metadata": {
      "needs_background": "light"
     },
     "output_type": "display_data"
    }
   ],
   "source": [
    "fig = plt.figure()\n",
    "ax = fig.add_subplot(1,1,1)\n",
    "\n",
    "ax.plot(expected_p_list[7:50],'r--',label=\"Expected Price\")\n",
    "plt.legend()\n",
    "plt.title(\"Expected price over N\")\n",
    "plt.xlabel('N')\n",
    "plt.ylabel('price')\n",
    "plt.show()"
   ]
  },
  {
   "cell_type": "code",
   "execution_count": 96,
   "metadata": {},
   "outputs": [],
   "source": [
    "def interactive_figure(tauz,taue,tauv,rho,vbar,N):\n",
    "    \n",
    "    # a. calculations\n",
    "    expected_p_list = []\n",
    "    for N in range(3,50):\n",
    "        expected_p_list.append(simulate_expected_p(tauz,taue,tauv,rho,vbar,N))\n",
    "    \n",
    "    # b. figure\n",
    "    fig = plt.figure()\n",
    "    ax = fig.add_subplot(1,1,1)\n",
    "\n",
    "    ax.plot(expected_p_list[3:50],'r--',label=\"Expected Price\")\n",
    "    plt.legend()\n",
    "    plt.title(\"Expected price over N\")\n",
    "    plt.xlabel('N')\n",
    "    plt.ylabel('price')\n",
    "    plt.show()\n",
    "    "
   ]
  },
  {
   "cell_type": "code",
   "execution_count": 100,
   "metadata": {},
   "outputs": [
    {
     "data": {
      "application/vnd.jupyter.widget-view+json": {
       "model_id": "b3d911548b3849d2808259213b1b0ab4",
       "version_major": 2,
       "version_minor": 0
      },
      "text/plain": [
       "interactive(children=(FloatSlider(value=8.0, description='$Variance of signal$', max=25.0, min=8.0, step=1.0),…"
      ]
     },
     "metadata": {},
     "output_type": "display_data"
    }
   ],
   "source": [
    "widgets.interact(interactive_figure,\n",
    "    N=widgets.fixed(N),\n",
    "    tauz=widgets.fixed(tauz),\n",
    "    vbar=widgets.fixed(vbar),\n",
    "    rho=widgets.FloatSlider(description=\"$Risk aversion$\", min=30, max=100, step=2, value=1),\n",
    "    taue=widgets.FloatSlider(description=\"$Variance of signal$\", min=8, max=25, step=1, value=1),\n",
    "    tauv=widgets.FloatSlider(description=\"$Variance of value$\", min=5, max=100, step=1, value=1),\n",
    ");"
   ]
  },
  {
   "cell_type": "code",
   "execution_count": null,
   "metadata": {},
   "outputs": [],
   "source": []
  }
 ],
 "metadata": {
  "kernelspec": {
   "display_name": "Python 3",
   "language": "python",
   "name": "python3"
  },
  "language_info": {
   "codemirror_mode": {
    "name": "ipython",
    "version": 3
   },
   "file_extension": ".py",
   "mimetype": "text/x-python",
   "name": "python",
   "nbconvert_exporter": "python",
   "pygments_lexer": "ipython3",
   "version": "3.7.1"
  }
 },
 "nbformat": 4,
 "nbformat_minor": 2
}
