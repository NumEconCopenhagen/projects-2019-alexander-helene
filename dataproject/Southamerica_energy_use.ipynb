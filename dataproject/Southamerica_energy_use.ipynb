{
 "cells": [
  {
   "cell_type": "markdown",
   "metadata": {},
   "source": [
    "# Importing packages"
   ]
  },
  {
   "cell_type": "code",
   "execution_count": 137,
   "metadata": {},
   "outputs": [],
   "source": [
    "#Install packages usefull for this workbook\n",
    "import pandas as pd\n",
    "import numpy as np\n",
    "import matplotlib.pyplot as plt\n",
    "import ipywidgets as widgets\n",
    "from pandas_datareader import wb\n",
    "import ipywidgets as widgets"
   ]
  },
  {
   "cell_type": "markdown",
   "metadata": {},
   "source": [
    "# Selecintg countries, indicators and cleaning data"
   ]
  },
  {
   "cell_type": "code",
   "execution_count": 138,
   "metadata": {},
   "outputs": [],
   "source": [
    "# a: Select countries"
   ]
  },
  {
   "cell_type": "code",
   "execution_count": 139,
   "metadata": {},
   "outputs": [],
   "source": [
    "countries = ['ARG', 'BOL', 'BRA', 'CHL', 'COL', 'ECU', 'GUY', 'PRY', 'PER', 'VEN', 'URY', 'SUR']"
   ]
  },
  {
   "cell_type": "code",
   "execution_count": 140,
   "metadata": {},
   "outputs": [],
   "source": [
    "# b: Select indiacators: GDP per capita and Energy use"
   ]
  },
  {
   "cell_type": "code",
   "execution_count": 141,
   "metadata": {},
   "outputs": [
    {
     "data": {
      "text/html": [
       "<div>\n",
       "<style scoped>\n",
       "    .dataframe tbody tr th:only-of-type {\n",
       "        vertical-align: middle;\n",
       "    }\n",
       "\n",
       "    .dataframe tbody tr th {\n",
       "        vertical-align: top;\n",
       "    }\n",
       "\n",
       "    .dataframe thead th {\n",
       "        text-align: right;\n",
       "    }\n",
       "</style>\n",
       "<table border=\"1\" class=\"dataframe\">\n",
       "  <thead>\n",
       "    <tr style=\"text-align: right;\">\n",
       "      <th></th>\n",
       "      <th></th>\n",
       "      <th>NY.GDP.PCAP.KD</th>\n",
       "    </tr>\n",
       "    <tr>\n",
       "      <th>country</th>\n",
       "      <th>year</th>\n",
       "      <th></th>\n",
       "    </tr>\n",
       "  </thead>\n",
       "  <tbody>\n",
       "    <tr>\n",
       "      <th rowspan=\"3\" valign=\"top\">Argentina</th>\n",
       "      <th>2014</th>\n",
       "      <td>10323.206940</td>\n",
       "    </tr>\n",
       "    <tr>\n",
       "      <th>2013</th>\n",
       "      <td>10699.197716</td>\n",
       "    </tr>\n",
       "    <tr>\n",
       "      <th>2012</th>\n",
       "      <td>10557.885389</td>\n",
       "    </tr>\n",
       "  </tbody>\n",
       "</table>\n",
       "</div>"
      ],
      "text/plain": [
       "                NY.GDP.PCAP.KD\n",
       "country   year                \n",
       "Argentina 2014    10323.206940\n",
       "          2013    10699.197716\n",
       "          2012    10557.885389"
      ]
     },
     "execution_count": 141,
     "metadata": {},
     "output_type": "execute_result"
    }
   ],
   "source": [
    "euse = wb.download(indicator='EG.USE.PCAP.KG.OE', country=countries, start=1971, end=2014)\n",
    "euse.head(3)\n",
    "\n",
    "gdp = wb.download(indicator='NY.GDP.PCAP.KD', country=countries, start=1971, end=2014)\n",
    "gdp.head(3)"
   ]
  },
  {
   "cell_type": "markdown",
   "metadata": {},
   "source": [
    "For further analysis\n",
    "cpi = wb.download(indicator='FP.CPI.TOTL', country=countries, start=1971, end=2014)\n",
    "cpi.head(3)"
   ]
  },
  {
   "cell_type": "code",
   "execution_count": 142,
   "metadata": {},
   "outputs": [],
   "source": [
    "# c: Merging the two data sets retaining the indicators "
   ]
  },
  {
   "cell_type": "code",
   "execution_count": 143,
   "metadata": {},
   "outputs": [],
   "source": [
    "joiningdata = pd.merge(euse,gdp, how='inner', on=['country','year'])\n",
    "joiningdata = joiningdata.reset_index()\n",
    "joiningdata = joiningdata.rename(columns = {'country' : 'countries', \n",
    "                                            'EG.USE.PCAP.KG.OE' : 'euse', \n",
    "                                            'NY.GDP.PCAP.KD' : 'gdp'})\n",
    "\n",
    "joiningdata['year'] = joiningdata.year.astype(float)"
   ]
  },
  {
   "cell_type": "code",
   "execution_count": 144,
   "metadata": {},
   "outputs": [],
   "source": [
    "# d: Sorting data"
   ]
  },
  {
   "cell_type": "code",
   "execution_count": 145,
   "metadata": {},
   "outputs": [
    {
     "data": {
      "text/html": [
       "<div>\n",
       "<style scoped>\n",
       "    .dataframe tbody tr th:only-of-type {\n",
       "        vertical-align: middle;\n",
       "    }\n",
       "\n",
       "    .dataframe tbody tr th {\n",
       "        vertical-align: top;\n",
       "    }\n",
       "\n",
       "    .dataframe thead th {\n",
       "        text-align: right;\n",
       "    }\n",
       "</style>\n",
       "<table border=\"1\" class=\"dataframe\">\n",
       "  <thead>\n",
       "    <tr style=\"text-align: right;\">\n",
       "      <th></th>\n",
       "      <th>countries</th>\n",
       "      <th>year</th>\n",
       "      <th>euse</th>\n",
       "      <th>gdp</th>\n",
       "    </tr>\n",
       "  </thead>\n",
       "  <tbody>\n",
       "    <tr>\n",
       "      <th>0</th>\n",
       "      <td>Argentina</td>\n",
       "      <td>1971.0</td>\n",
       "      <td>1380.921398</td>\n",
       "      <td>7335.759136</td>\n",
       "    </tr>\n",
       "    <tr>\n",
       "      <th>1</th>\n",
       "      <td>Argentina</td>\n",
       "      <td>1972.0</td>\n",
       "      <td>1379.818923</td>\n",
       "      <td>7329.921158</td>\n",
       "    </tr>\n",
       "    <tr>\n",
       "      <th>2</th>\n",
       "      <td>Argentina</td>\n",
       "      <td>1973.0</td>\n",
       "      <td>1411.496781</td>\n",
       "      <td>7407.366754</td>\n",
       "    </tr>\n",
       "    <tr>\n",
       "      <th>3</th>\n",
       "      <td>Argentina</td>\n",
       "      <td>1974.0</td>\n",
       "      <td>1415.682954</td>\n",
       "      <td>7685.857212</td>\n",
       "    </tr>\n",
       "    <tr>\n",
       "      <th>4</th>\n",
       "      <td>Argentina</td>\n",
       "      <td>1975.0</td>\n",
       "      <td>1378.546993</td>\n",
       "      <td>7559.143749</td>\n",
       "    </tr>\n",
       "    <tr>\n",
       "      <th>5</th>\n",
       "      <td>Argentina</td>\n",
       "      <td>1976.0</td>\n",
       "      <td>1404.744778</td>\n",
       "      <td>7291.840429</td>\n",
       "    </tr>\n",
       "    <tr>\n",
       "      <th>6</th>\n",
       "      <td>Argentina</td>\n",
       "      <td>1977.0</td>\n",
       "      <td>1420.567765</td>\n",
       "      <td>7681.017571</td>\n",
       "    </tr>\n",
       "    <tr>\n",
       "      <th>7</th>\n",
       "      <td>Argentina</td>\n",
       "      <td>1978.0</td>\n",
       "      <td>1426.919260</td>\n",
       "      <td>7227.564124</td>\n",
       "    </tr>\n",
       "    <tr>\n",
       "      <th>8</th>\n",
       "      <td>Argentina</td>\n",
       "      <td>1979.0</td>\n",
       "      <td>1484.565823</td>\n",
       "      <td>7849.363340</td>\n",
       "    </tr>\n",
       "    <tr>\n",
       "      <th>9</th>\n",
       "      <td>Argentina</td>\n",
       "      <td>1980.0</td>\n",
       "      <td>1487.617079</td>\n",
       "      <td>7849.115971</td>\n",
       "    </tr>\n",
       "    <tr>\n",
       "      <th>10</th>\n",
       "      <td>Argentina</td>\n",
       "      <td>1981.0</td>\n",
       "      <td>1430.440084</td>\n",
       "      <td>7327.705618</td>\n",
       "    </tr>\n",
       "    <tr>\n",
       "      <th>11</th>\n",
       "      <td>Argentina</td>\n",
       "      <td>1982.0</td>\n",
       "      <td>1416.540023</td>\n",
       "      <td>7160.749689</td>\n",
       "    </tr>\n",
       "    <tr>\n",
       "      <th>12</th>\n",
       "      <td>Argentina</td>\n",
       "      <td>1983.0</td>\n",
       "      <td>1419.930165</td>\n",
       "      <td>7355.292503</td>\n",
       "    </tr>\n",
       "    <tr>\n",
       "      <th>13</th>\n",
       "      <td>Argentina</td>\n",
       "      <td>1984.0</td>\n",
       "      <td>1447.819825</td>\n",
       "      <td>7354.429897</td>\n",
       "    </tr>\n",
       "    <tr>\n",
       "      <th>14</th>\n",
       "      <td>Argentina</td>\n",
       "      <td>1985.0</td>\n",
       "      <td>1360.665414</td>\n",
       "      <td>6865.450355</td>\n",
       "    </tr>\n",
       "    <tr>\n",
       "      <th>15</th>\n",
       "      <td>Argentina</td>\n",
       "      <td>1986.0</td>\n",
       "      <td>1421.546979</td>\n",
       "      <td>7177.265623</td>\n",
       "    </tr>\n",
       "    <tr>\n",
       "      <th>16</th>\n",
       "      <td>Argentina</td>\n",
       "      <td>1987.0</td>\n",
       "      <td>1477.043426</td>\n",
       "      <td>7260.987434</td>\n",
       "    </tr>\n",
       "    <tr>\n",
       "      <th>17</th>\n",
       "      <td>Argentina</td>\n",
       "      <td>1988.0</td>\n",
       "      <td>1504.819091</td>\n",
       "      <td>7075.901679</td>\n",
       "    </tr>\n",
       "    <tr>\n",
       "      <th>18</th>\n",
       "      <td>Argentina</td>\n",
       "      <td>1989.0</td>\n",
       "      <td>1441.482265</td>\n",
       "      <td>6474.180178</td>\n",
       "    </tr>\n",
       "    <tr>\n",
       "      <th>19</th>\n",
       "      <td>Argentina</td>\n",
       "      <td>1990.0</td>\n",
       "      <td>1407.386750</td>\n",
       "      <td>6224.510019</td>\n",
       "    </tr>\n",
       "  </tbody>\n",
       "</table>\n",
       "</div>"
      ],
      "text/plain": [
       "    countries    year         euse          gdp\n",
       "0   Argentina  1971.0  1380.921398  7335.759136\n",
       "1   Argentina  1972.0  1379.818923  7329.921158\n",
       "2   Argentina  1973.0  1411.496781  7407.366754\n",
       "3   Argentina  1974.0  1415.682954  7685.857212\n",
       "4   Argentina  1975.0  1378.546993  7559.143749\n",
       "5   Argentina  1976.0  1404.744778  7291.840429\n",
       "6   Argentina  1977.0  1420.567765  7681.017571\n",
       "7   Argentina  1978.0  1426.919260  7227.564124\n",
       "8   Argentina  1979.0  1484.565823  7849.363340\n",
       "9   Argentina  1980.0  1487.617079  7849.115971\n",
       "10  Argentina  1981.0  1430.440084  7327.705618\n",
       "11  Argentina  1982.0  1416.540023  7160.749689\n",
       "12  Argentina  1983.0  1419.930165  7355.292503\n",
       "13  Argentina  1984.0  1447.819825  7354.429897\n",
       "14  Argentina  1985.0  1360.665414  6865.450355\n",
       "15  Argentina  1986.0  1421.546979  7177.265623\n",
       "16  Argentina  1987.0  1477.043426  7260.987434\n",
       "17  Argentina  1988.0  1504.819091  7075.901679\n",
       "18  Argentina  1989.0  1441.482265  6474.180178\n",
       "19  Argentina  1990.0  1407.386750  6224.510019"
      ]
     },
     "execution_count": 145,
     "metadata": {},
     "output_type": "execute_result"
    }
   ],
   "source": [
    "joiningdata.sort_values(by=['countries','year'], inplace=True)\n",
    "joiningdata = joiningdata.reset_index(drop = True)\n",
    "\n",
    "#Quick overview of the data\n",
    "joiningdata.head(20)"
   ]
  },
  {
   "cell_type": "markdown",
   "metadata": {},
   "source": [
    "## Deleting countries (rows) with missing data. \n",
    "We ensure that rows has been deleted by checking number of observations before and after"
   ]
  },
  {
   "cell_type": "code",
   "execution_count": 146,
   "metadata": {},
   "outputs": [
    {
     "name": "stdout",
     "output_type": "stream",
     "text": [
      "before: 528 observations, 4 variables\n",
      "after: 440 observations, 4 variables\n"
     ]
    }
   ],
   "source": [
    "print(f'before: {joiningdata.shape[0]} observations, {joiningdata.shape[1]} variables')\n",
    "for val in ['Guyana', 'Suriname']: \n",
    "    I = joiningdata.countries.str.contains(val)\n",
    "    joiningdata.drop(joiningdata[I].index, inplace=True)\n",
    "print(f'after: {joiningdata.shape[0]} observations, {joiningdata.shape[1]} variables')"
   ]
  },
  {
   "cell_type": "markdown",
   "metadata": {},
   "source": [
    "Checking relevant descriptive statistics"
   ]
  },
  {
   "cell_type": "code",
   "execution_count": 147,
   "metadata": {},
   "outputs": [
    {
     "data": {
      "text/html": [
       "<div>\n",
       "<style scoped>\n",
       "    .dataframe tbody tr th:only-of-type {\n",
       "        vertical-align: middle;\n",
       "    }\n",
       "\n",
       "    .dataframe tbody tr th {\n",
       "        vertical-align: top;\n",
       "    }\n",
       "\n",
       "    .dataframe thead th {\n",
       "        text-align: right;\n",
       "    }\n",
       "</style>\n",
       "<table border=\"1\" class=\"dataframe\">\n",
       "  <thead>\n",
       "    <tr style=\"text-align: right;\">\n",
       "      <th></th>\n",
       "      <th>year</th>\n",
       "      <th>euse</th>\n",
       "      <th>gdp</th>\n",
       "    </tr>\n",
       "    <tr>\n",
       "      <th>countries</th>\n",
       "      <th></th>\n",
       "      <th></th>\n",
       "      <th></th>\n",
       "    </tr>\n",
       "  </thead>\n",
       "  <tbody>\n",
       "    <tr>\n",
       "      <th>Argentina</th>\n",
       "      <td>1992.5</td>\n",
       "      <td>1577.821307</td>\n",
       "      <td>8038.279267</td>\n",
       "    </tr>\n",
       "    <tr>\n",
       "      <th>Bolivia</th>\n",
       "      <td>1992.5</td>\n",
       "      <td>469.526977</td>\n",
       "      <td>1630.257096</td>\n",
       "    </tr>\n",
       "    <tr>\n",
       "      <th>Brazil</th>\n",
       "      <td>1992.5</td>\n",
       "      <td>1033.796172</td>\n",
       "      <td>8567.851994</td>\n",
       "    </tr>\n",
       "    <tr>\n",
       "      <th>Chile</th>\n",
       "      <td>1992.5</td>\n",
       "      <td>1277.436140</td>\n",
       "      <td>7934.020545</td>\n",
       "    </tr>\n",
       "    <tr>\n",
       "      <th>Colombia</th>\n",
       "      <td>1992.5</td>\n",
       "      <td>660.678585</td>\n",
       "      <td>4618.023011</td>\n",
       "    </tr>\n",
       "    <tr>\n",
       "      <th>Ecuador</th>\n",
       "      <td>1992.5</td>\n",
       "      <td>638.038425</td>\n",
       "      <td>3887.789092</td>\n",
       "    </tr>\n",
       "    <tr>\n",
       "      <th>Paraguay</th>\n",
       "      <td>1992.5</td>\n",
       "      <td>694.451297</td>\n",
       "      <td>3394.018057</td>\n",
       "    </tr>\n",
       "    <tr>\n",
       "      <th>Peru</th>\n",
       "      <td>1992.5</td>\n",
       "      <td>551.234617</td>\n",
       "      <td>3723.383196</td>\n",
       "    </tr>\n",
       "    <tr>\n",
       "      <th>Uruguay</th>\n",
       "      <td>1992.5</td>\n",
       "      <td>902.129600</td>\n",
       "      <td>8172.112245</td>\n",
       "    </tr>\n",
       "    <tr>\n",
       "      <th>Venezuela, RB</th>\n",
       "      <td>1992.5</td>\n",
       "      <td>2066.910665</td>\n",
       "      <td>13107.434867</td>\n",
       "    </tr>\n",
       "  </tbody>\n",
       "</table>\n",
       "</div>"
      ],
      "text/plain": [
       "                 year         euse           gdp\n",
       "countries                                       \n",
       "Argentina      1992.5  1577.821307   8038.279267\n",
       "Bolivia        1992.5   469.526977   1630.257096\n",
       "Brazil         1992.5  1033.796172   8567.851994\n",
       "Chile          1992.5  1277.436140   7934.020545\n",
       "Colombia       1992.5   660.678585   4618.023011\n",
       "Ecuador        1992.5   638.038425   3887.789092\n",
       "Paraguay       1992.5   694.451297   3394.018057\n",
       "Peru           1992.5   551.234617   3723.383196\n",
       "Uruguay        1992.5   902.129600   8172.112245\n",
       "Venezuela, RB  1992.5  2066.910665  13107.434867"
      ]
     },
     "execution_count": 147,
     "metadata": {},
     "output_type": "execute_result"
    }
   ],
   "source": [
    "joiningdata.groupby('countries').mean()"
   ]
  },
  {
   "cell_type": "markdown",
   "metadata": {},
   "source": [
    "# Analysis\n",
    "The data set is cleaned. We begin the analysis of investigating the relationship between economic growth and energy use."
   ]
  },
  {
   "cell_type": "markdown",
   "metadata": {},
   "source": [
    "## First we look at economic growth. \n",
    "### GDP pr Capita"
   ]
  },
  {
   "cell_type": "code",
   "execution_count": 148,
   "metadata": {},
   "outputs": [],
   "source": [
    "# Calculate percentage change in gdp\n",
    "joiningdata['gdp_pct'] = joiningdata.groupby('countries')['gdp'].pct_change() *100"
   ]
  },
  {
   "cell_type": "code",
   "execution_count": 149,
   "metadata": {},
   "outputs": [],
   "source": [
    "# Economic growth\n",
    "# Creating a column containing the value of gdp for each country year 1971\n",
    "joiningdata_2=joiningdata.copy()\n",
    "joiningdata_grouped = joiningdata_2.groupby('countries')\n",
    "joiningdata_grouped_first = joiningdata_grouped.gdp.first()\n",
    "joiningdata_grouped_first.name = 'first'\n",
    "\n",
    "# The column is added to joiningdata_2.\n",
    "joiningdata_2.set_index(['countries','year'],inplace=True)\n",
    "joiningdata_2 = joiningdata_2.join(joiningdata_grouped_first)\n",
    "joiningdata_2.reset_index(inplace=True)"
   ]
  },
  {
   "cell_type": "code",
   "execution_count": 150,
   "metadata": {},
   "outputs": [],
   "source": [
    "# Creating a column containing the value of gdp for each country year 2014\n",
    "joiningdata_grouped_last = joiningdata_grouped.gdp.last()\n",
    "joiningdata_grouped_last.name = 'last'\n",
    "\n",
    "# The column is added to joiningdata_2.\n",
    "joiningdata_2.set_index(['countries','year'],inplace=True)\n",
    "joiningdata_2 = joiningdata_2.join(joiningdata_grouped_last)\n",
    "joiningdata_2.reset_index(inplace=True)\n",
    "\n",
    "# Calculating the economic growth for each country in the period 1971-2014\n",
    "joiningdata_2['growth_gdp'] = joiningdata_2['last']/joiningdata_2['first']*100"
   ]
  },
  {
   "cell_type": "code",
   "execution_count": null,
   "metadata": {},
   "outputs": [],
   "source": []
  },
  {
   "cell_type": "code",
   "execution_count": 151,
   "metadata": {},
   "outputs": [],
   "source": [
    "#Table showing the total gdp growth rate for each country\n",
    "joiningdata_mean=joiningdata_2.groupby('countries').mean().copy()\n",
    "joiningdata_mean.drop(['year', 'euse', 'gdp', 'gdp_pct', 'first', 'last'],axis=1,inplace=True)\n",
    "joiningdata_mean\n",
    "\n",
    "# Sorting data:\n",
    "#Tilføj navne\n",
    "joiningdata_mean.sort_values(by=['growth_gdp'], inplace=True)\n",
    "joiningdata_mean = joiningdata_mean.reset_index()"
   ]
  },
  {
   "cell_type": "code",
   "execution_count": 152,
   "metadata": {},
   "outputs": [
    {
     "data": {
      "text/html": [
       "<div>\n",
       "<style scoped>\n",
       "    .dataframe tbody tr th:only-of-type {\n",
       "        vertical-align: middle;\n",
       "    }\n",
       "\n",
       "    .dataframe tbody tr th {\n",
       "        vertical-align: top;\n",
       "    }\n",
       "\n",
       "    .dataframe thead th {\n",
       "        text-align: right;\n",
       "    }\n",
       "</style>\n",
       "<table border=\"1\" class=\"dataframe\">\n",
       "  <thead>\n",
       "    <tr style=\"text-align: right;\">\n",
       "      <th></th>\n",
       "      <th>countries</th>\n",
       "      <th>growth_gdp</th>\n",
       "    </tr>\n",
       "  </thead>\n",
       "  <tbody>\n",
       "    <tr>\n",
       "      <th>0</th>\n",
       "      <td>Venezuela, RB</td>\n",
       "      <td>97.123477</td>\n",
       "    </tr>\n",
       "    <tr>\n",
       "      <th>1</th>\n",
       "      <td>Argentina</td>\n",
       "      <td>140.724453</td>\n",
       "    </tr>\n",
       "    <tr>\n",
       "      <th>2</th>\n",
       "      <td>Bolivia</td>\n",
       "      <td>161.693689</td>\n",
       "    </tr>\n",
       "    <tr>\n",
       "      <th>3</th>\n",
       "      <td>Peru</td>\n",
       "      <td>169.172403</td>\n",
       "    </tr>\n",
       "    <tr>\n",
       "      <th>4</th>\n",
       "      <td>Ecuador</td>\n",
       "      <td>211.370857</td>\n",
       "    </tr>\n",
       "    <tr>\n",
       "      <th>5</th>\n",
       "      <td>Brazil</td>\n",
       "      <td>232.311111</td>\n",
       "    </tr>\n",
       "    <tr>\n",
       "      <th>6</th>\n",
       "      <td>Uruguay</td>\n",
       "      <td>245.714679</td>\n",
       "    </tr>\n",
       "    <tr>\n",
       "      <th>7</th>\n",
       "      <td>Colombia</td>\n",
       "      <td>252.604067</td>\n",
       "    </tr>\n",
       "    <tr>\n",
       "      <th>8</th>\n",
       "      <td>Paraguay</td>\n",
       "      <td>275.215844</td>\n",
       "    </tr>\n",
       "    <tr>\n",
       "      <th>9</th>\n",
       "      <td>Chile</td>\n",
       "      <td>293.591635</td>\n",
       "    </tr>\n",
       "  </tbody>\n",
       "</table>\n",
       "</div>"
      ],
      "text/plain": [
       "       countries  growth_gdp\n",
       "0  Venezuela, RB   97.123477\n",
       "1      Argentina  140.724453\n",
       "2        Bolivia  161.693689\n",
       "3           Peru  169.172403\n",
       "4        Ecuador  211.370857\n",
       "5         Brazil  232.311111\n",
       "6        Uruguay  245.714679\n",
       "7       Colombia  252.604067\n",
       "8       Paraguay  275.215844\n",
       "9          Chile  293.591635"
      ]
     },
     "execution_count": 152,
     "metadata": {},
     "output_type": "execute_result"
    }
   ],
   "source": [
    "joiningdata_mean"
   ]
  },
  {
   "cell_type": "markdown",
   "metadata": {},
   "source": [
    "As can be seen Chile, Paraguay, Columbia, Uruguay and Brazil have the highest growth in gdp over the 44 years.\n",
    "The five countries are represented below"
   ]
  },
  {
   "cell_type": "code",
   "execution_count": 153,
   "metadata": {},
   "outputs": [
    {
     "data": {
      "image/png": "[encoded data removed]",
      "text/plain": [
       "<Figure size 432x288 with 1 Axes>"
      ]
     },
     "metadata": {
      "needs_background": "light"
     },
     "output_type": "display_data"
    }
   ],
   "source": [
    "top5_gdp = joiningdata_2[joiningdata_2[\"countries\"].isin(['Chile', 'Paraguay', 'Columbia', 'Uruguay', 'Brazil'])]\n",
    "\n",
    "def plot(fig):\n",
    "    fig_gdp_change = fig.set_index('year')\n",
    "    fig_gdp_change.groupby(['countries'])['gdp'].plot(legend=True);\n",
    "\n",
    "plot(top5_gdp)"
   ]
  },
  {
   "cell_type": "markdown",
   "metadata": {},
   "source": [
    "## We conduct the same analysis for energy use\n",
    "### Energy use"
   ]
  },
  {
   "cell_type": "code",
   "execution_count": 154,
   "metadata": {},
   "outputs": [],
   "source": [
    "# Creating a column containing the value of energy use for each country year 1971\n",
    "joiningdata_3=joiningdata.copy()\n",
    "joiningdata_grouped = joiningdata_3.groupby('countries')\n",
    "joiningdata_grouped_first = joiningdata_grouped.euse.first()\n",
    "joiningdata_grouped_first.name = 'first'\n",
    "\n",
    "# The column is added to joiningdata_2.\n",
    "joiningdata_3.set_index(['countries','year'],inplace=True)\n",
    "joiningdata_3 = joiningdata_3.join(joiningdata_grouped_first)\n",
    "joiningdata_3.reset_index(inplace=True)\n",
    "\n",
    "\n",
    "# Creating a column containing the value of gdp for each country year 2014\n",
    "joiningdata_grouped_last = joiningdata_grouped.euse.last()\n",
    "joiningdata_grouped_last.name = 'last'\n",
    "\n",
    "# The column is added to joiningdata_2.\n",
    "joiningdata_3.set_index(['countries','year'],inplace=True)\n",
    "joiningdata_3 = joiningdata_3.join(joiningdata_grouped_last)\n",
    "joiningdata_3.reset_index(inplace=True)\n",
    "\n",
    "# Calculating the economic growth for each country in the period 1971-2014\n",
    "joiningdata_3['growth_euse'] = joiningdata_3['last']/joiningdata_3['first']*100"
   ]
  },
  {
   "cell_type": "code",
   "execution_count": 155,
   "metadata": {},
   "outputs": [
    {
     "data": {
      "text/html": [
       "<div>\n",
       "<style scoped>\n",
       "    .dataframe tbody tr th:only-of-type {\n",
       "        vertical-align: middle;\n",
       "    }\n",
       "\n",
       "    .dataframe tbody tr th {\n",
       "        vertical-align: top;\n",
       "    }\n",
       "\n",
       "    .dataframe thead th {\n",
       "        text-align: right;\n",
       "    }\n",
       "</style>\n",
       "<table border=\"1\" class=\"dataframe\">\n",
       "  <thead>\n",
       "    <tr style=\"text-align: right;\">\n",
       "      <th></th>\n",
       "      <th>countries</th>\n",
       "      <th>growth_euse</th>\n",
       "    </tr>\n",
       "  </thead>\n",
       "  <tbody>\n",
       "    <tr>\n",
       "      <th>0</th>\n",
       "      <td>Peru</td>\n",
       "      <td>115.255741</td>\n",
       "    </tr>\n",
       "    <tr>\n",
       "      <th>1</th>\n",
       "      <td>Colombia</td>\n",
       "      <td>116.160964</td>\n",
       "    </tr>\n",
       "    <tr>\n",
       "      <th>2</th>\n",
       "      <td>Argentina</td>\n",
       "      <td>145.930612</td>\n",
       "    </tr>\n",
       "    <tr>\n",
       "      <th>3</th>\n",
       "      <td>Paraguay</td>\n",
       "      <td>146.119363</td>\n",
       "    </tr>\n",
       "    <tr>\n",
       "      <th>4</th>\n",
       "      <td>Venezuela, RB</td>\n",
       "      <td>151.692850</td>\n",
       "    </tr>\n",
       "    <tr>\n",
       "      <th>5</th>\n",
       "      <td>Uruguay</td>\n",
       "      <td>160.720944</td>\n",
       "    </tr>\n",
       "    <tr>\n",
       "      <th>6</th>\n",
       "      <td>Brazil</td>\n",
       "      <td>207.961710</td>\n",
       "    </tr>\n",
       "    <tr>\n",
       "      <th>7</th>\n",
       "      <td>Chile</td>\n",
       "      <td>229.489047</td>\n",
       "    </tr>\n",
       "    <tr>\n",
       "      <th>8</th>\n",
       "      <td>Ecuador</td>\n",
       "      <td>249.092396</td>\n",
       "    </tr>\n",
       "    <tr>\n",
       "      <th>9</th>\n",
       "      <td>Bolivia</td>\n",
       "      <td>355.559299</td>\n",
       "    </tr>\n",
       "  </tbody>\n",
       "</table>\n",
       "</div>"
      ],
      "text/plain": [
       "       countries  growth_euse\n",
       "0           Peru   115.255741\n",
       "1       Colombia   116.160964\n",
       "2      Argentina   145.930612\n",
       "3       Paraguay   146.119363\n",
       "4  Venezuela, RB   151.692850\n",
       "5        Uruguay   160.720944\n",
       "6         Brazil   207.961710\n",
       "7          Chile   229.489047\n",
       "8        Ecuador   249.092396\n",
       "9        Bolivia   355.559299"
      ]
     },
     "execution_count": 155,
     "metadata": {},
     "output_type": "execute_result"
    }
   ],
   "source": [
    "#Table showing the total gdp growth rate for each country\n",
    "joiningdata_mean=joiningdata_3.groupby('countries').mean().copy()\n",
    "joiningdata_mean.drop(['year', 'euse', 'gdp', 'gdp_pct', 'first', 'last'],axis=1,inplace=True)\n",
    "joiningdata_mean\n",
    "\n",
    "# Sorting data:\n",
    "joiningdata_mean.sort_values(by=['growth_euse'], inplace=True)\n",
    "joiningdata_mean = joiningdata_mean.reset_index()\n",
    "\n",
    "joiningdata_mean"
   ]
  },
  {
   "cell_type": "markdown",
   "metadata": {},
   "source": [
    "As seen in the table the 5 countries with the highest growth of energy use is Bolivia, Ecuador, Chile, Brazil and Uruguay."
   ]
  },
  {
   "cell_type": "code",
   "execution_count": 156,
   "metadata": {},
   "outputs": [
    {
     "data": {
      "image/png": "[encoded data removed]",
      "text/plain": [
       "<Figure size 432x288 with 1 Axes>"
      ]
     },
     "metadata": {
      "needs_background": "light"
     },
     "output_type": "display_data"
    }
   ],
   "source": [
    "top5_euse = joiningdata_2[joiningdata_2[\"countries\"].isin(['Bolivia', 'Ecuador', 'Chile', 'Brazil', 'Uruguay'])]\n",
    "\n",
    "def plot(fig):\n",
    "    fig_gdp_change = fig.set_index('year')\n",
    "    fig_gdp_change.groupby(['countries'])['euse'].plot(legend=True);\n",
    "\n",
    "plot(top5_euse)"
   ]
  },
  {
   "cell_type": "markdown",
   "metadata": {},
   "source": [
    "# Conclusion\n",
    "\n",
    "This was a quick ad hoc analysis of the relationship between energy consumption and economic growth. As we saw, the five countries that have the highest economic growth is not the same countries that experienced the largest rise in energy consumption. However, soe of the countries are the same and a further analysis could be conducted using appropriate econometric methods as more relevant variables."
   ]
  },
  {
   "cell_type": "code",
   "execution_count": null,
   "metadata": {},
   "outputs": [],
   "source": []
  }
 ],
 "metadata": {
  "kernelspec": {
   "display_name": "Python 3",
   "language": "python",
   "name": "python3"
  },
  "language_info": {
   "codemirror_mode": {
    "name": "ipython",
    "version": 3
   },
   "file_extension": ".py",
   "mimetype": "text/x-python",
   "name": "python",
   "nbconvert_exporter": "python",
   "pygments_lexer": "ipython3",
   "version": "3.7.1"
  }
 },
 "nbformat": 4,
 "nbformat_minor": 2
}
