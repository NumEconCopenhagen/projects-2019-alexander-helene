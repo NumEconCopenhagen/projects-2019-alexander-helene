{
 "cells": [
  {
   "cell_type": "markdown",
   "metadata": {},
   "source": [
    "# Data analysis project: Energy use in South America"
   ]
  },
  {
   "cell_type": "markdown",
   "metadata": {},
   "source": [
    "We conduct this data analysis project with inspiration from the paper \"Triangular Relationship between Energy Consumption, Price Index and National Income in Asian Countries: A Pooled Mean Group Approach in Presence of Structural Breaks\" by Mehmood, Raza, Rana, Sohaib and Khan. \n",
    "\n",
    "It is a well known fact that energy consumption is a key factor in economic activity. The article mentioned above is the staring point for this project. We apply simple descriptive economic skills to investigate the relationship between energy use and GDP per capita. We apply the analysis for countries of SOuth America instead of Asian countries. "
   ]
  },
  {
   "cell_type": "markdown",
   "metadata": {},
   "source": [
    "# Importing packages"
   ]
  },
  {
   "cell_type": "markdown",
   "metadata": {},
   "source": [
    "We import wb from pandas_datareader so we can extract data directly from the World Bank. "
   ]
  },
  {
   "cell_type": "code",
   "execution_count": 46,
   "metadata": {},
   "outputs": [],
   "source": [
    "#Install packages usefull for this workbook\n",
    "import pandas as pd\n",
    "import numpy as np\n",
    "import matplotlib.pyplot as plt\n",
    "import ipywidgets as widgets\n",
    "from ipywidgets import interact\n",
    "from pandas_datareader import wb"
   ]
  },
  {
   "cell_type": "markdown",
   "metadata": {},
   "source": [
    "# Read and clean data"
   ]
  },
  {
   "cell_type": "markdown",
   "metadata": {},
   "source": [
    "## Select countries and indicators"
   ]
  },
  {
   "cell_type": "markdown",
   "metadata": {},
   "source": [
    "We select the 12 countries of South America. For the analysis we use the indicators energy use per capita in kilogram of oil equivalents and GDP per capita in 2010 USD. The starting year of the data is 1971 and goes to 2014. The data is downloaded from the World Bank Development Indicators."
   ]
  },
  {
   "cell_type": "code",
   "execution_count": 138,
   "metadata": {},
   "outputs": [],
   "source": [
    "# a: Select countries"
   ]
  },
  {
   "cell_type": "code",
   "execution_count": 2,
   "metadata": {},
   "outputs": [],
   "source": [
    "countries = ['ARG', 'BOL', 'BRA', 'CHL', 'COL', 'ECU', 'GUY', 'PRY', 'PER', 'VEN', 'URY', 'SUR']"
   ]
  },
  {
   "cell_type": "code",
   "execution_count": 3,
   "metadata": {},
   "outputs": [],
   "source": [
    "# b: Select indiacators: GDP per capita and Energy use"
   ]
  },
  {
   "cell_type": "code",
   "execution_count": 4,
   "metadata": {},
   "outputs": [],
   "source": [
    "euse = wb.download(indicator='EG.USE.PCAP.KG.OE', country=countries, start=1971, end=2014)"
   ]
  },
  {
   "cell_type": "code",
   "execution_count": 5,
   "metadata": {},
   "outputs": [
    {
     "name": "stdout",
     "output_type": "stream",
     "text": [
      "This is what the first indicator looks like:\n"
     ]
    },
    {
     "data": {
      "text/html": [
       "<div>\n",
       "<style scoped>\n",
       "    .dataframe tbody tr th:only-of-type {\n",
       "        vertical-align: middle;\n",
       "    }\n",
       "\n",
       "    .dataframe tbody tr th {\n",
       "        vertical-align: top;\n",
       "    }\n",
       "\n",
       "    .dataframe thead th {\n",
       "        text-align: right;\n",
       "    }\n",
       "</style>\n",
       "<table border=\"1\" class=\"dataframe\">\n",
       "  <thead>\n",
       "    <tr style=\"text-align: right;\">\n",
       "      <th></th>\n",
       "      <th></th>\n",
       "      <th>EG.USE.PCAP.KG.OE</th>\n",
       "    </tr>\n",
       "    <tr>\n",
       "      <th>country</th>\n",
       "      <th>year</th>\n",
       "      <th></th>\n",
       "    </tr>\n",
       "  </thead>\n",
       "  <tbody>\n",
       "    <tr>\n",
       "      <th rowspan=\"3\" valign=\"top\">Argentina</th>\n",
       "      <th>2014</th>\n",
       "      <td>2015.187040</td>\n",
       "    </tr>\n",
       "    <tr>\n",
       "      <th>2013</th>\n",
       "      <td>1951.439454</td>\n",
       "    </tr>\n",
       "    <tr>\n",
       "      <th>2012</th>\n",
       "      <td>1920.080959</td>\n",
       "    </tr>\n",
       "  </tbody>\n",
       "</table>\n",
       "</div>"
      ],
      "text/plain": [
       "                EG.USE.PCAP.KG.OE\n",
       "country   year                   \n",
       "Argentina 2014        2015.187040\n",
       "          2013        1951.439454\n",
       "          2012        1920.080959"
      ]
     },
     "execution_count": 5,
     "metadata": {},
     "output_type": "execute_result"
    }
   ],
   "source": [
    "print(\"This is what the first indicator looks like:\")\n",
    "euse.head(3)"
   ]
  },
  {
   "cell_type": "code",
   "execution_count": 6,
   "metadata": {},
   "outputs": [],
   "source": [
    "gdp = wb.download(indicator='NY.GDP.PCAP.KD', country=countries, start=1971, end=2014)"
   ]
  },
  {
   "cell_type": "code",
   "execution_count": 7,
   "metadata": {},
   "outputs": [
    {
     "name": "stdout",
     "output_type": "stream",
     "text": [
      "This is what the second indicator looks like:\n"
     ]
    },
    {
     "data": {
      "text/html": [
       "<div>\n",
       "<style scoped>\n",
       "    .dataframe tbody tr th:only-of-type {\n",
       "        vertical-align: middle;\n",
       "    }\n",
       "\n",
       "    .dataframe tbody tr th {\n",
       "        vertical-align: top;\n",
       "    }\n",
       "\n",
       "    .dataframe thead th {\n",
       "        text-align: right;\n",
       "    }\n",
       "</style>\n",
       "<table border=\"1\" class=\"dataframe\">\n",
       "  <thead>\n",
       "    <tr style=\"text-align: right;\">\n",
       "      <th></th>\n",
       "      <th></th>\n",
       "      <th>NY.GDP.PCAP.KD</th>\n",
       "    </tr>\n",
       "    <tr>\n",
       "      <th>country</th>\n",
       "      <th>year</th>\n",
       "      <th></th>\n",
       "    </tr>\n",
       "  </thead>\n",
       "  <tbody>\n",
       "    <tr>\n",
       "      <th rowspan=\"3\" valign=\"top\">Argentina</th>\n",
       "      <th>2014</th>\n",
       "      <td>10323.206940</td>\n",
       "    </tr>\n",
       "    <tr>\n",
       "      <th>2013</th>\n",
       "      <td>10699.197716</td>\n",
       "    </tr>\n",
       "    <tr>\n",
       "      <th>2012</th>\n",
       "      <td>10557.885389</td>\n",
       "    </tr>\n",
       "  </tbody>\n",
       "</table>\n",
       "</div>"
      ],
      "text/plain": [
       "                NY.GDP.PCAP.KD\n",
       "country   year                \n",
       "Argentina 2014    10323.206940\n",
       "          2013    10699.197716\n",
       "          2012    10557.885389"
      ]
     },
     "execution_count": 7,
     "metadata": {},
     "output_type": "execute_result"
    }
   ],
   "source": [
    "print(\"This is what the second indicator looks like:\")\n",
    "gdp.head(3)"
   ]
  },
  {
   "cell_type": "markdown",
   "metadata": {},
   "source": [
    "Note:\n",
    "For further analysis compare with the consumer price index\n",
    "\n",
    "cpi = wb.download(indicator='FP.CPI.TOTL', country=countries, start=1971, end=2014)\n",
    "cpi.head(3)"
   ]
  },
  {
   "cell_type": "markdown",
   "metadata": {},
   "source": [
    "## Cleaning data"
   ]
  },
  {
   "cell_type": "markdown",
   "metadata": {},
   "source": [
    "We have downloaded the two indicators separately so we want to merge the two datasets. Next, we sort it by countries and year to get the structure of the dataset as we want it. "
   ]
  },
  {
   "cell_type": "code",
   "execution_count": 8,
   "metadata": {},
   "outputs": [],
   "source": [
    "# a: Merging the two data sets retaining the indicators \n",
    "joiningdata = pd.merge(euse,gdp, how='inner', on=['country','year'])\n",
    "joiningdata = joiningdata.reset_index()\n",
    "joiningdata = joiningdata.rename(columns = {'country' : 'countries', \n",
    "                                            'EG.USE.PCAP.KG.OE' : 'euse', \n",
    "                                            'NY.GDP.PCAP.KD' : 'gdp'})\n",
    "\n",
    "joiningdata['year'] = joiningdata.year.astype(float)"
   ]
  },
  {
   "cell_type": "code",
   "execution_count": 9,
   "metadata": {},
   "outputs": [],
   "source": [
    "# b: Sorting data\n",
    "joiningdata.sort_values(by=['countries','year'], inplace=True)\n",
    "joiningdata = joiningdata.reset_index(drop = True)"
   ]
  },
  {
   "cell_type": "markdown",
   "metadata": {},
   "source": [
    "The data now looks like this: "
   ]
  },
  {
   "cell_type": "code",
   "execution_count": 10,
   "metadata": {},
   "outputs": [
    {
     "data": {
      "text/html": [
       "<div>\n",
       "<style scoped>\n",
       "    .dataframe tbody tr th:only-of-type {\n",
       "        vertical-align: middle;\n",
       "    }\n",
       "\n",
       "    .dataframe tbody tr th {\n",
       "        vertical-align: top;\n",
       "    }\n",
       "\n",
       "    .dataframe thead th {\n",
       "        text-align: right;\n",
       "    }\n",
       "</style>\n",
       "<table border=\"1\" class=\"dataframe\">\n",
       "  <thead>\n",
       "    <tr style=\"text-align: right;\">\n",
       "      <th></th>\n",
       "      <th>countries</th>\n",
       "      <th>year</th>\n",
       "      <th>euse</th>\n",
       "      <th>gdp</th>\n",
       "    </tr>\n",
       "  </thead>\n",
       "  <tbody>\n",
       "    <tr>\n",
       "      <th>0</th>\n",
       "      <td>Argentina</td>\n",
       "      <td>1971.0</td>\n",
       "      <td>1380.921398</td>\n",
       "      <td>7335.759136</td>\n",
       "    </tr>\n",
       "    <tr>\n",
       "      <th>1</th>\n",
       "      <td>Argentina</td>\n",
       "      <td>1972.0</td>\n",
       "      <td>1379.818923</td>\n",
       "      <td>7329.921158</td>\n",
       "    </tr>\n",
       "    <tr>\n",
       "      <th>2</th>\n",
       "      <td>Argentina</td>\n",
       "      <td>1973.0</td>\n",
       "      <td>1411.496781</td>\n",
       "      <td>7407.366754</td>\n",
       "    </tr>\n",
       "    <tr>\n",
       "      <th>3</th>\n",
       "      <td>Argentina</td>\n",
       "      <td>1974.0</td>\n",
       "      <td>1415.682954</td>\n",
       "      <td>7685.857212</td>\n",
       "    </tr>\n",
       "    <tr>\n",
       "      <th>4</th>\n",
       "      <td>Argentina</td>\n",
       "      <td>1975.0</td>\n",
       "      <td>1378.546993</td>\n",
       "      <td>7559.143749</td>\n",
       "    </tr>\n",
       "    <tr>\n",
       "      <th>5</th>\n",
       "      <td>Argentina</td>\n",
       "      <td>1976.0</td>\n",
       "      <td>1404.744778</td>\n",
       "      <td>7291.840429</td>\n",
       "    </tr>\n",
       "    <tr>\n",
       "      <th>6</th>\n",
       "      <td>Argentina</td>\n",
       "      <td>1977.0</td>\n",
       "      <td>1420.567765</td>\n",
       "      <td>7681.017571</td>\n",
       "    </tr>\n",
       "    <tr>\n",
       "      <th>7</th>\n",
       "      <td>Argentina</td>\n",
       "      <td>1978.0</td>\n",
       "      <td>1426.919260</td>\n",
       "      <td>7227.564124</td>\n",
       "    </tr>\n",
       "    <tr>\n",
       "      <th>8</th>\n",
       "      <td>Argentina</td>\n",
       "      <td>1979.0</td>\n",
       "      <td>1484.565823</td>\n",
       "      <td>7849.363340</td>\n",
       "    </tr>\n",
       "    <tr>\n",
       "      <th>9</th>\n",
       "      <td>Argentina</td>\n",
       "      <td>1980.0</td>\n",
       "      <td>1487.617079</td>\n",
       "      <td>7849.115971</td>\n",
       "    </tr>\n",
       "    <tr>\n",
       "      <th>10</th>\n",
       "      <td>Argentina</td>\n",
       "      <td>1981.0</td>\n",
       "      <td>1430.440084</td>\n",
       "      <td>7327.705618</td>\n",
       "    </tr>\n",
       "    <tr>\n",
       "      <th>11</th>\n",
       "      <td>Argentina</td>\n",
       "      <td>1982.0</td>\n",
       "      <td>1416.540023</td>\n",
       "      <td>7160.749689</td>\n",
       "    </tr>\n",
       "    <tr>\n",
       "      <th>12</th>\n",
       "      <td>Argentina</td>\n",
       "      <td>1983.0</td>\n",
       "      <td>1419.930165</td>\n",
       "      <td>7355.292503</td>\n",
       "    </tr>\n",
       "    <tr>\n",
       "      <th>13</th>\n",
       "      <td>Argentina</td>\n",
       "      <td>1984.0</td>\n",
       "      <td>1447.819825</td>\n",
       "      <td>7354.429897</td>\n",
       "    </tr>\n",
       "    <tr>\n",
       "      <th>14</th>\n",
       "      <td>Argentina</td>\n",
       "      <td>1985.0</td>\n",
       "      <td>1360.665414</td>\n",
       "      <td>6865.450355</td>\n",
       "    </tr>\n",
       "    <tr>\n",
       "      <th>15</th>\n",
       "      <td>Argentina</td>\n",
       "      <td>1986.0</td>\n",
       "      <td>1421.546979</td>\n",
       "      <td>7177.265623</td>\n",
       "    </tr>\n",
       "    <tr>\n",
       "      <th>16</th>\n",
       "      <td>Argentina</td>\n",
       "      <td>1987.0</td>\n",
       "      <td>1477.043426</td>\n",
       "      <td>7260.987434</td>\n",
       "    </tr>\n",
       "    <tr>\n",
       "      <th>17</th>\n",
       "      <td>Argentina</td>\n",
       "      <td>1988.0</td>\n",
       "      <td>1504.819091</td>\n",
       "      <td>7075.901679</td>\n",
       "    </tr>\n",
       "    <tr>\n",
       "      <th>18</th>\n",
       "      <td>Argentina</td>\n",
       "      <td>1989.0</td>\n",
       "      <td>1441.482265</td>\n",
       "      <td>6474.180178</td>\n",
       "    </tr>\n",
       "    <tr>\n",
       "      <th>19</th>\n",
       "      <td>Argentina</td>\n",
       "      <td>1990.0</td>\n",
       "      <td>1407.386750</td>\n",
       "      <td>6224.510019</td>\n",
       "    </tr>\n",
       "  </tbody>\n",
       "</table>\n",
       "</div>"
      ],
      "text/plain": [
       "    countries    year         euse          gdp\n",
       "0   Argentina  1971.0  1380.921398  7335.759136\n",
       "1   Argentina  1972.0  1379.818923  7329.921158\n",
       "2   Argentina  1973.0  1411.496781  7407.366754\n",
       "3   Argentina  1974.0  1415.682954  7685.857212\n",
       "4   Argentina  1975.0  1378.546993  7559.143749\n",
       "5   Argentina  1976.0  1404.744778  7291.840429\n",
       "6   Argentina  1977.0  1420.567765  7681.017571\n",
       "7   Argentina  1978.0  1426.919260  7227.564124\n",
       "8   Argentina  1979.0  1484.565823  7849.363340\n",
       "9   Argentina  1980.0  1487.617079  7849.115971\n",
       "10  Argentina  1981.0  1430.440084  7327.705618\n",
       "11  Argentina  1982.0  1416.540023  7160.749689\n",
       "12  Argentina  1983.0  1419.930165  7355.292503\n",
       "13  Argentina  1984.0  1447.819825  7354.429897\n",
       "14  Argentina  1985.0  1360.665414  6865.450355\n",
       "15  Argentina  1986.0  1421.546979  7177.265623\n",
       "16  Argentina  1987.0  1477.043426  7260.987434\n",
       "17  Argentina  1988.0  1504.819091  7075.901679\n",
       "18  Argentina  1989.0  1441.482265  6474.180178\n",
       "19  Argentina  1990.0  1407.386750  6224.510019"
      ]
     },
     "execution_count": 10,
     "metadata": {},
     "output_type": "execute_result"
    }
   ],
   "source": [
    "# Printing the 20 first rows of the dataset\n",
    "joiningdata.head(20)"
   ]
  },
  {
   "cell_type": "markdown",
   "metadata": {},
   "source": [
    "**Deleting rows with missing data**\n",
    "\n",
    "The countries Guyana and Suriname is missing a lot of data and we therefore exclude them from our analysis.\n",
    "We delete the rows with missing data by dropping the rows where the country name is Guyana or Suriname. We ensure that rows has been deleted by checking number of observations before and after."
   ]
  },
  {
   "cell_type": "code",
   "execution_count": 11,
   "metadata": {},
   "outputs": [
    {
     "name": "stdout",
     "output_type": "stream",
     "text": [
      "before: 528 observations, 4 variables\n",
      "after: 440 observations, 4 variables\n"
     ]
    }
   ],
   "source": [
    "print(f'before: {joiningdata.shape[0]} observations, {joiningdata.shape[1]} variables')\n",
    "for val in ['Guyana', 'Suriname']: \n",
    "    I = joiningdata.countries.str.contains(val)\n",
    "    joiningdata.drop(joiningdata[I].index, inplace=True)\n",
    "print(f'after: {joiningdata.shape[0]} observations, {joiningdata.shape[1]} variables')"
   ]
  },
  {
   "cell_type": "markdown",
   "metadata": {},
   "source": [
    "\n",
    "\n",
    "We want to take a look at the mean of the two indicators for each country. "
   ]
  },
  {
   "cell_type": "code",
   "execution_count": 12,
   "metadata": {},
   "outputs": [
    {
     "data": {
      "text/html": [
       "<div>\n",
       "<style scoped>\n",
       "    .dataframe tbody tr th:only-of-type {\n",
       "        vertical-align: middle;\n",
       "    }\n",
       "\n",
       "    .dataframe tbody tr th {\n",
       "        vertical-align: top;\n",
       "    }\n",
       "\n",
       "    .dataframe thead th {\n",
       "        text-align: right;\n",
       "    }\n",
       "</style>\n",
       "<table border=\"1\" class=\"dataframe\">\n",
       "  <thead>\n",
       "    <tr style=\"text-align: right;\">\n",
       "      <th></th>\n",
       "      <th>year</th>\n",
       "      <th>euse</th>\n",
       "      <th>gdp</th>\n",
       "    </tr>\n",
       "    <tr>\n",
       "      <th>countries</th>\n",
       "      <th></th>\n",
       "      <th></th>\n",
       "      <th></th>\n",
       "    </tr>\n",
       "  </thead>\n",
       "  <tbody>\n",
       "    <tr>\n",
       "      <th>Argentina</th>\n",
       "      <td>1992.5</td>\n",
       "      <td>1577.821307</td>\n",
       "      <td>8038.279267</td>\n",
       "    </tr>\n",
       "    <tr>\n",
       "      <th>Bolivia</th>\n",
       "      <td>1992.5</td>\n",
       "      <td>469.526977</td>\n",
       "      <td>1630.257096</td>\n",
       "    </tr>\n",
       "    <tr>\n",
       "      <th>Brazil</th>\n",
       "      <td>1992.5</td>\n",
       "      <td>1033.796172</td>\n",
       "      <td>8553.640898</td>\n",
       "    </tr>\n",
       "    <tr>\n",
       "      <th>Chile</th>\n",
       "      <td>1992.5</td>\n",
       "      <td>1277.436140</td>\n",
       "      <td>7934.020545</td>\n",
       "    </tr>\n",
       "    <tr>\n",
       "      <th>Colombia</th>\n",
       "      <td>1992.5</td>\n",
       "      <td>660.678585</td>\n",
       "      <td>4618.023011</td>\n",
       "    </tr>\n",
       "    <tr>\n",
       "      <th>Ecuador</th>\n",
       "      <td>1992.5</td>\n",
       "      <td>638.038425</td>\n",
       "      <td>3887.789092</td>\n",
       "    </tr>\n",
       "    <tr>\n",
       "      <th>Paraguay</th>\n",
       "      <td>1992.5</td>\n",
       "      <td>694.451297</td>\n",
       "      <td>3394.018057</td>\n",
       "    </tr>\n",
       "    <tr>\n",
       "      <th>Peru</th>\n",
       "      <td>1992.5</td>\n",
       "      <td>551.234617</td>\n",
       "      <td>3723.383196</td>\n",
       "    </tr>\n",
       "    <tr>\n",
       "      <th>Uruguay</th>\n",
       "      <td>1992.5</td>\n",
       "      <td>902.129600</td>\n",
       "      <td>8172.112245</td>\n",
       "    </tr>\n",
       "    <tr>\n",
       "      <th>Venezuela, RB</th>\n",
       "      <td>1992.5</td>\n",
       "      <td>2066.910665</td>\n",
       "      <td>13107.434867</td>\n",
       "    </tr>\n",
       "  </tbody>\n",
       "</table>\n",
       "</div>"
      ],
      "text/plain": [
       "                 year         euse           gdp\n",
       "countries                                       \n",
       "Argentina      1992.5  1577.821307   8038.279267\n",
       "Bolivia        1992.5   469.526977   1630.257096\n",
       "Brazil         1992.5  1033.796172   8553.640898\n",
       "Chile          1992.5  1277.436140   7934.020545\n",
       "Colombia       1992.5   660.678585   4618.023011\n",
       "Ecuador        1992.5   638.038425   3887.789092\n",
       "Paraguay       1992.5   694.451297   3394.018057\n",
       "Peru           1992.5   551.234617   3723.383196\n",
       "Uruguay        1992.5   902.129600   8172.112245\n",
       "Venezuela, RB  1992.5  2066.910665  13107.434867"
      ]
     },
     "execution_count": 12,
     "metadata": {},
     "output_type": "execute_result"
    }
   ],
   "source": [
    "joiningdata.groupby('countries').mean()"
   ]
  },
  {
   "cell_type": "markdown",
   "metadata": {},
   "source": [
    "The table above shows the mean of energy use and gdp for each country.\n",
    "We note that Venezuela and Argentina are the countries with the highest mean of energy use. They have as well high mean of gdp along with Brazil and Chile. "
   ]
  },
  {
   "cell_type": "markdown",
   "metadata": {},
   "source": [
    "# Analysis\n",
    "The data set is cleaned. We begin the analysis of investigating the relationship between economic growth and energy use.\n",
    "First in section 4.1 we take a look at the growth in GDP per capita. We calculate the percentage change to see which country has the greatest economic development from 1971 to 2014. Next in section 4.2 we apply the same analysis with the indicator energy use to see the development in energy use throughout the years. We present the relevant results in tables and graphs.  "
   ]
  },
  {
   "cell_type": "markdown",
   "metadata": {},
   "source": [
    "## Economic growth\n",
    "### GDP per Capita\n",
    "\n",
    "We calculate the percentage change in GDP for each country by: \n",
    "\n",
    "$ growth_ {GDP}= \\frac{GDP_{2014} - GDP_{1971}}{GDP_{1971}} \\bullet 100 \\%$\n",
    "\n",
    "We calculate the percentage change by creating two new columns containing respectively the first and the last value of gdp, i.e. the value of GDp in 1971 and 2014."
   ]
  },
  {
   "cell_type": "code",
   "execution_count": 13,
   "metadata": {},
   "outputs": [],
   "source": [
    "# Calculate percentage change in gdp\n",
    "joiningdata['gdp_pct'] = joiningdata.groupby('countries')['gdp'].pct_change() *100"
   ]
  },
  {
   "cell_type": "code",
   "execution_count": 14,
   "metadata": {},
   "outputs": [],
   "source": [
    "# Economic growth\n",
    "# Creating a column containing the value of gdp for each country year 1971\n",
    "joiningdata_2=joiningdata.copy()\n",
    "joiningdata_grouped = joiningdata_2.groupby('countries')\n",
    "joiningdata_grouped_first = joiningdata_grouped.gdp.first()\n",
    "joiningdata_grouped_first.name = 'first'\n",
    "\n",
    "# The column is added to joiningdata_2.\n",
    "joiningdata_2.set_index(['countries','year'],inplace=True)\n",
    "joiningdata_2 = joiningdata_2.join(joiningdata_grouped_first)\n",
    "joiningdata_2.reset_index(inplace=True)"
   ]
  },
  {
   "cell_type": "code",
   "execution_count": 15,
   "metadata": {},
   "outputs": [],
   "source": [
    "# Creating a column containing the value of gdp for each country year 2014\n",
    "joiningdata_grouped_last = joiningdata_grouped.gdp.last()\n",
    "joiningdata_grouped_last.name = 'last'\n",
    "\n",
    "# The column is added to joiningdata_2.\n",
    "joiningdata_2.set_index(['countries','year'],inplace=True)\n",
    "joiningdata_2 = joiningdata_2.join(joiningdata_grouped_last)\n",
    "joiningdata_2.reset_index(inplace=True)\n",
    "\n",
    "# Calculating the economic growth for each country in the period 1971-2014\n",
    "joiningdata_2['growth_gdp'] = (joiningdata_2['last']-joiningdata_2['first'])/joiningdata_2['first']*100"
   ]
  },
  {
   "cell_type": "code",
   "execution_count": 16,
   "metadata": {},
   "outputs": [],
   "source": [
    "#Table showing the total gdp growth rate for each country\n",
    "joiningdata_mean=joiningdata_2.groupby('countries').mean().copy()\n",
    "joiningdata_mean.drop(['year', 'euse', 'gdp', 'gdp_pct', 'first', 'last'],axis=1,inplace=True)\n",
    "joiningdata_mean\n",
    "\n",
    "# Sorting data:\n",
    "#Add names\n",
    "joiningdata_mean.sort_values(by=['growth_gdp'], inplace=True)\n",
    "joiningdata_mean = joiningdata_mean.reset_index()"
   ]
  },
  {
   "cell_type": "markdown",
   "metadata": {},
   "source": [
    "The table below shows GDP growth rate for each country:"
   ]
  },
  {
   "cell_type": "code",
   "execution_count": 17,
   "metadata": {},
   "outputs": [
    {
     "data": {
      "text/html": [
       "<div>\n",
       "<style scoped>\n",
       "    .dataframe tbody tr th:only-of-type {\n",
       "        vertical-align: middle;\n",
       "    }\n",
       "\n",
       "    .dataframe tbody tr th {\n",
       "        vertical-align: top;\n",
       "    }\n",
       "\n",
       "    .dataframe thead th {\n",
       "        text-align: right;\n",
       "    }\n",
       "</style>\n",
       "<table border=\"1\" class=\"dataframe\">\n",
       "  <thead>\n",
       "    <tr style=\"text-align: right;\">\n",
       "      <th></th>\n",
       "      <th>countries</th>\n",
       "      <th>growth_gdp</th>\n",
       "    </tr>\n",
       "  </thead>\n",
       "  <tbody>\n",
       "    <tr>\n",
       "      <th>0</th>\n",
       "      <td>Venezuela, RB</td>\n",
       "      <td>-2.876523</td>\n",
       "    </tr>\n",
       "    <tr>\n",
       "      <th>1</th>\n",
       "      <td>Argentina</td>\n",
       "      <td>40.724453</td>\n",
       "    </tr>\n",
       "    <tr>\n",
       "      <th>2</th>\n",
       "      <td>Bolivia</td>\n",
       "      <td>61.693689</td>\n",
       "    </tr>\n",
       "    <tr>\n",
       "      <th>3</th>\n",
       "      <td>Peru</td>\n",
       "      <td>69.172403</td>\n",
       "    </tr>\n",
       "    <tr>\n",
       "      <th>4</th>\n",
       "      <td>Ecuador</td>\n",
       "      <td>111.370857</td>\n",
       "    </tr>\n",
       "    <tr>\n",
       "      <th>5</th>\n",
       "      <td>Brazil</td>\n",
       "      <td>132.877773</td>\n",
       "    </tr>\n",
       "    <tr>\n",
       "      <th>6</th>\n",
       "      <td>Uruguay</td>\n",
       "      <td>145.714679</td>\n",
       "    </tr>\n",
       "    <tr>\n",
       "      <th>7</th>\n",
       "      <td>Colombia</td>\n",
       "      <td>152.604067</td>\n",
       "    </tr>\n",
       "    <tr>\n",
       "      <th>8</th>\n",
       "      <td>Paraguay</td>\n",
       "      <td>175.215844</td>\n",
       "    </tr>\n",
       "    <tr>\n",
       "      <th>9</th>\n",
       "      <td>Chile</td>\n",
       "      <td>193.591635</td>\n",
       "    </tr>\n",
       "  </tbody>\n",
       "</table>\n",
       "</div>"
      ],
      "text/plain": [
       "       countries  growth_gdp\n",
       "0  Venezuela, RB   -2.876523\n",
       "1      Argentina   40.724453\n",
       "2        Bolivia   61.693689\n",
       "3           Peru   69.172403\n",
       "4        Ecuador  111.370857\n",
       "5         Brazil  132.877773\n",
       "6        Uruguay  145.714679\n",
       "7       Colombia  152.604067\n",
       "8       Paraguay  175.215844\n",
       "9          Chile  193.591635"
      ]
     },
     "execution_count": 17,
     "metadata": {},
     "output_type": "execute_result"
    }
   ],
   "source": [
    "joiningdata_mean"
   ]
  },
  {
   "cell_type": "markdown",
   "metadata": {},
   "source": [
    "As can be seen Chile, Paraguay, Columbia, Uruguay and Brazil have the highest growth in gdp over the 44 years.\n",
    "The five countries are represented in the graph below."
   ]
  },
  {
   "cell_type": "code",
   "execution_count": 54,
   "metadata": {},
   "outputs": [
    {
     "data": {
      "image/png": "[encoded data removed]",
      "text/plain": [
       "<Figure size 432x288 with 1 Axes>"
      ]
     },
     "metadata": {
      "needs_background": "light"
     },
     "output_type": "display_data"
    }
   ],
   "source": [
    "#Making a graph showing the 5 countries of South America that has the highest GDP growth.\n",
    "top5_gdp = joiningdata_2[joiningdata_2[\"countries\"].isin(['Chile', 'Paraguay', 'Columbia', 'Uruguay', 'Brazil'])]\n",
    "\n",
    "def plot(fig):\n",
    "    fig_gdp_change = fig.set_index('year')\n",
    "    fig_gdp_change.groupby(['countries'])['gdp'].plot(legend=True, grid=True, title='The 5 countries with highest level of GDP per cpaita');\n",
    "\n",
    "plot(top5_gdp)"
   ]
  },
  {
   "cell_type": "markdown",
   "metadata": {},
   "source": [
    "The graph shows that Brazil, Chile and Uruguay have experienced somewhat similar growth rates in the years from 1971 to 2014. The growht rate in GDP of Paraguay is substantially lower. "
   ]
  },
  {
   "cell_type": "markdown",
   "metadata": {},
   "source": [
    "## Growth in energy use\n",
    "### Energy use\n",
    "We calculate the percentage change in energy use for each country by: \n",
    "\n",
    "$ growth_ {euse}= \\frac{euse_{2014} - euse_{1971}}{euse_{1971}} \\bullet 100 \\%$\n",
    "\n",
    "The procedure is the same as the one conducted for GDP growth above. "
   ]
  },
  {
   "cell_type": "code",
   "execution_count": 19,
   "metadata": {},
   "outputs": [],
   "source": [
    "# Creating a column containing the value of energy use for each country year 1971\n",
    "joiningdata_3=joiningdata.copy()\n",
    "joiningdata_grouped = joiningdata_3.groupby('countries')\n",
    "joiningdata_grouped_first = joiningdata_grouped.euse.first()\n",
    "joiningdata_grouped_first.name = 'first'\n",
    "\n",
    "# The column is added to joiningdata_2.\n",
    "joiningdata_3.set_index(['countries','year'],inplace=True)\n",
    "joiningdata_3 = joiningdata_3.join(joiningdata_grouped_first)\n",
    "joiningdata_3.reset_index(inplace=True)\n",
    "\n",
    "# Creating a column containing the value of gdp for each country year 2014\n",
    "joiningdata_grouped_last = joiningdata_grouped.euse.last()\n",
    "joiningdata_grouped_last.name = 'last'\n",
    "\n",
    "# The column is added to joiningdata_2.\n",
    "joiningdata_3.set_index(['countries','year'],inplace=True)\n",
    "joiningdata_3 = joiningdata_3.join(joiningdata_grouped_last)\n",
    "joiningdata_3.reset_index(inplace=True)\n",
    "\n",
    "# Calculating the economic growth for each country in the period 1971-2014\n",
    "joiningdata_3['growth_euse'] = (joiningdata_3['last']-joiningdata_3['first'])/joiningdata_3['first']*100"
   ]
  },
  {
   "cell_type": "code",
   "execution_count": 20,
   "metadata": {},
   "outputs": [],
   "source": [
    "#Table showing the total gdp growth rate for each country\n",
    "joiningdata_mean=joiningdata_3.groupby('countries').mean().copy()\n",
    "joiningdata_mean.drop(['year', 'euse', 'gdp', 'gdp_pct', 'first', 'last'],axis=1,inplace=True)\n",
    "joiningdata_mean\n",
    "\n",
    "# Sorting data:\n",
    "joiningdata_mean.sort_values(by=['growth_euse'], inplace=True)\n",
    "joiningdata_mean = joiningdata_mean.reset_index()"
   ]
  },
  {
   "cell_type": "markdown",
   "metadata": {},
   "source": [
    "The table below shows GDP growth rate for each country:"
   ]
  },
  {
   "cell_type": "code",
   "execution_count": 21,
   "metadata": {},
   "outputs": [
    {
     "data": {
      "text/html": [
       "<div>\n",
       "<style scoped>\n",
       "    .dataframe tbody tr th:only-of-type {\n",
       "        vertical-align: middle;\n",
       "    }\n",
       "\n",
       "    .dataframe tbody tr th {\n",
       "        vertical-align: top;\n",
       "    }\n",
       "\n",
       "    .dataframe thead th {\n",
       "        text-align: right;\n",
       "    }\n",
       "</style>\n",
       "<table border=\"1\" class=\"dataframe\">\n",
       "  <thead>\n",
       "    <tr style=\"text-align: right;\">\n",
       "      <th></th>\n",
       "      <th>countries</th>\n",
       "      <th>growth_euse</th>\n",
       "    </tr>\n",
       "  </thead>\n",
       "  <tbody>\n",
       "    <tr>\n",
       "      <th>0</th>\n",
       "      <td>Peru</td>\n",
       "      <td>15.255741</td>\n",
       "    </tr>\n",
       "    <tr>\n",
       "      <th>1</th>\n",
       "      <td>Colombia</td>\n",
       "      <td>16.160964</td>\n",
       "    </tr>\n",
       "    <tr>\n",
       "      <th>2</th>\n",
       "      <td>Argentina</td>\n",
       "      <td>45.930612</td>\n",
       "    </tr>\n",
       "    <tr>\n",
       "      <th>3</th>\n",
       "      <td>Paraguay</td>\n",
       "      <td>46.119363</td>\n",
       "    </tr>\n",
       "    <tr>\n",
       "      <th>4</th>\n",
       "      <td>Venezuela, RB</td>\n",
       "      <td>51.692850</td>\n",
       "    </tr>\n",
       "    <tr>\n",
       "      <th>5</th>\n",
       "      <td>Uruguay</td>\n",
       "      <td>60.720944</td>\n",
       "    </tr>\n",
       "    <tr>\n",
       "      <th>6</th>\n",
       "      <td>Brazil</td>\n",
       "      <td>107.961710</td>\n",
       "    </tr>\n",
       "    <tr>\n",
       "      <th>7</th>\n",
       "      <td>Chile</td>\n",
       "      <td>129.489047</td>\n",
       "    </tr>\n",
       "    <tr>\n",
       "      <th>8</th>\n",
       "      <td>Ecuador</td>\n",
       "      <td>149.092396</td>\n",
       "    </tr>\n",
       "    <tr>\n",
       "      <th>9</th>\n",
       "      <td>Bolivia</td>\n",
       "      <td>255.559299</td>\n",
       "    </tr>\n",
       "  </tbody>\n",
       "</table>\n",
       "</div>"
      ],
      "text/plain": [
       "       countries  growth_euse\n",
       "0           Peru    15.255741\n",
       "1       Colombia    16.160964\n",
       "2      Argentina    45.930612\n",
       "3       Paraguay    46.119363\n",
       "4  Venezuela, RB    51.692850\n",
       "5        Uruguay    60.720944\n",
       "6         Brazil   107.961710\n",
       "7          Chile   129.489047\n",
       "8        Ecuador   149.092396\n",
       "9        Bolivia   255.559299"
      ]
     },
     "execution_count": 21,
     "metadata": {},
     "output_type": "execute_result"
    }
   ],
   "source": [
    "joiningdata_mean"
   ]
  },
  {
   "cell_type": "markdown",
   "metadata": {},
   "source": [
    "As seen in the table the 5 countries with the highest growth of energy use is Bolivia, Ecuador, Chile, Brazil and Uruguay. These countries are represented in the graph below. "
   ]
  },
  {
   "cell_type": "code",
   "execution_count": 53,
   "metadata": {},
   "outputs": [
    {
     "data": {
      "image/png": "[encoded data removed]",
      "text/plain": [
       "<Figure size 432x288 with 1 Axes>"
      ]
     },
     "metadata": {
      "needs_background": "light"
     },
     "output_type": "display_data"
    }
   ],
   "source": [
    "#Making a graph showing the 5 countries of South America that has the highest growth in energy use.\n",
    "top5_euse = joiningdata_2[joiningdata_2[\"countries\"].isin(['Bolivia', 'Ecuador', 'Chile', 'Brazil', 'Uruguay'])]\n",
    "\n",
    "def plot(fig):\n",
    "    fig_gdp_change = fig.set_index('year')\n",
    "    fig_gdp_change.groupby(['countries'])['euse'].plot(legend=True, grid=True, title='The 5 countries with highest levels of energy use');\n",
    "\n",
    "plot(top5_euse)"
   ]
  },
  {
   "cell_type": "markdown",
   "metadata": {},
   "source": [
    "The graph shows that Chile is the country that has the highest growth rate of energy use. Chile is also the only country experiencing a negative growth in the last couple of years. Brazil and Uruguay seems to follow the same growth rate since the mid 00's as the same for Bolivia and Ecuador. "
   ]
  },
  {
   "cell_type": "markdown",
   "metadata": {},
   "source": [
    "We have constructed an interactive figure for the comparison of two countries. In the first dropdown you can choose whether you want to look at GDP og energy use and the next two dropdowns are for choosing countries. You can compare the two countries with the highest energy use og the two countries with the highest and the lowest energy use, respectively to see the difference. "
   ]
  },
  {
   "cell_type": "code",
   "execution_count": 59,
   "metadata": {},
   "outputs": [],
   "source": [
    "def plot_euse_gdp(df, variable, countries_A, countries_B): \n",
    "    \n",
    "    if variable == 'Energy use':\n",
    "        y = 'euse'\n",
    "    else:\n",
    "        y = 'gdp'\n",
    "    \n",
    "    I = df.countries == countries_A\n",
    "    Y = df.countries == countries_B\n",
    "    \n",
    "    ax = df.loc[I,['year',y]].plot(x='year', y=y, style='-', grid=True)\n",
    "    bx = df.loc[Y,['year',y]].plot(ax=ax,x='year', y=y, style='-', grid=True) \n",
    "    ax.legend([countries_A, countries_B])"
   ]
  },
  {
   "cell_type": "code",
   "execution_count": 60,
   "metadata": {},
   "outputs": [
    {
     "data": {
      "application/vnd.jupyter.widget-view+json": {
       "model_id": "76a086f09c204166aebbb454002052e4",
       "version_major": 2,
       "version_minor": 0
      },
      "text/plain": [
       "interactive(children=(Dropdown(description='Variable', options=('Energy use', 'GDP'), value='Energy use'), Dro…"
      ]
     },
     "metadata": {},
     "output_type": "display_data"
    }
   ],
   "source": [
    "widgets.interact(plot_euse_gdp, \n",
    "    \n",
    "    df = widgets.fixed(joiningdata),\n",
    "    variable = widgets.Dropdown(description='Variable', \n",
    "                               options=['Energy use','GDP']),\n",
    "    countries_A = widgets.Dropdown(description='Country A', \n",
    "                                options=joiningdata.countries.unique()) ,           \n",
    "    countries_B = widgets.Dropdown(description='Country B', \n",
    "                                options=joiningdata.countries.unique())\n",
    "); "
   ]
  },
  {
   "cell_type": "markdown",
   "metadata": {},
   "source": [
    "## Indice calculation\n",
    "\n",
    "For further analysis we calculate the indices of energy use and gdp. We group the data by countries and calculate the indice by applying the lambda function. By setting the index to year we ensure that the first observation for each country is 1971. \n",
    "\n",
    "### Normalization of energy use and GDP per capita"
   ]
  },
  {
   "cell_type": "code",
   "execution_count": 29,
   "metadata": {},
   "outputs": [
    {
     "name": "stdout",
     "output_type": "stream",
     "text": [
      "   countries    year         euse          gdp   gdp_pct  index_euse  \\\n",
      "0  Argentina  1971.0  1380.921398  7335.759136       NaN  100.000000   \n",
      "1  Argentina  1972.0  1379.818923  7329.921158 -0.079582   99.920164   \n",
      "2  Argentina  1973.0  1411.496781  7407.366754  1.056568  102.214129   \n",
      "3  Argentina  1974.0  1415.682954  7685.857212  3.759642  102.517273   \n",
      "4  Argentina  1975.0  1378.546993  7559.143749 -1.648658   99.828056   \n",
      "5  Argentina  1976.0  1404.744778  7291.840429 -3.536159  101.725180   \n",
      "6  Argentina  1977.0  1420.567765  7681.017571  5.337159  102.871008   \n",
      "7  Argentina  1978.0  1426.919260  7227.564124 -5.903560  103.330954   \n",
      "8  Argentina  1979.0  1484.565823  7849.363340  8.603164  107.505454   \n",
      "9  Argentina  1980.0  1487.617079  7849.115971 -0.003151  107.726412   \n",
      "\n",
      "    index_gdp  \n",
      "0  100.000000  \n",
      "1   99.920418  \n",
      "2  100.976145  \n",
      "3  104.772486  \n",
      "4  103.045147  \n",
      "5   99.401307  \n",
      "6  104.706513  \n",
      "7   98.525101  \n",
      "8  107.001378  \n",
      "9  106.998006  \n"
     ]
    }
   ],
   "source": [
    "data=joiningdata.copy()\n",
    "#print(data)\n",
    "\n",
    "#Indice calculation for euse\n",
    "data.sort_values(by = ['countries', 'year'], inplace = True)\n",
    "#data.reset_index(inplace = True)\n",
    "#data.drop(['index'], axis = 1, inplace = True) #delete the old index\n",
    "\n",
    "#Select the first element in a series\n",
    "def first(x): \n",
    "    return x.iloc[0]\n",
    "\n",
    "#Group the data and calcualte the index\n",
    "grouped = data.groupby(['countries'])\n",
    "for s in ['euse','gdp']:\n",
    "    data['index_'+s] = grouped[s].transform(lambda x: x/first(x)*100)\n",
    "\n",
    "#Set index to the figure (run only once!)\n",
    "data.set_index('year')\n",
    "\n",
    "#Check the dataset\n",
    "print(data.head(10))"
   ]
  },
  {
   "cell_type": "markdown",
   "metadata": {},
   "source": [
    " "
   ]
  },
  {
   "cell_type": "markdown",
   "metadata": {},
   "source": [
    "The foloowing graph is interactive and you can se the development in the normalized energy use and gdp per capita for any South American coutnry."
   ]
  },
  {
   "cell_type": "code",
   "execution_count": 51,
   "metadata": {},
   "outputs": [
    {
     "data": {
      "application/vnd.jupyter.widget-view+json": {
       "model_id": "8514edfbd5b14c60a4f2588b708b9280",
       "version_major": 2,
       "version_minor": 0
      },
      "text/plain": [
       "interactive(children=(Dropdown(description='countries', options=('Bolivia', 'Ecuador', 'Chile', 'Brazil', 'Uru…"
      ]
     },
     "metadata": {},
     "output_type": "display_data"
    },
    {
     "data": {
      "text/plain": [
       "<function __main__.indice_graph(countries)>"
      ]
     },
     "execution_count": 51,
     "metadata": {},
     "output_type": "execute_result"
    }
   ],
   "source": [
    "def indice_graph(countries):\n",
    "    graph_data = data.loc[data['countries'] == countries,:]\n",
    "    graph_data.set_index('year').groupby('countries')['index_euse', 'index_gdp'].plot(legend=True, grid=True, title='Development in energy use and GDP per capita')\n",
    "    return\n",
    "\n",
    "# Next we create an interactive line chart which displays the development of employment shares grouped by the regions of Denmark\n",
    "interact(indice_graph, countries=['Bolivia', 'Ecuador', 'Chile', 'Brazil', 'Uruguay', 'Peru', 'Paraguay', 'Venezuela, RB', 'Argentina', 'Colombia'])"
   ]
  },
  {
   "cell_type": "markdown",
   "metadata": {},
   "source": [
    "What is interesteing about this figure is that in some countries like Argentina the development in energy use and GDP seem to follow. Whereas Uruguay for example have higher level of growth in GDP and Bolivia have higher level of growth in GDP."
   ]
  },
  {
   "cell_type": "markdown",
   "metadata": {},
   "source": [
    "# Conclusion\n",
    "\n",
    "This was a quick ad hoc analysis of the relationship between energy consumption and economic growth. As we saw, the five countries that have the highest economic growth is not exactly the same countries that experienced the largest rise in energy consumption. However, some of the countries are the same and a further analysis could be conducted using appropriate econometric methods as more relevant variables."
   ]
  },
  {
   "cell_type": "markdown",
   "metadata": {},
   "source": [
    "\n"
   ]
  }
 ],
 "metadata": {
  "kernelspec": {
   "display_name": "Python 3",
   "language": "python",
   "name": "python3"
  },
  "language_info": {
   "codemirror_mode": {
    "name": "ipython",
    "version": 3
   },
   "file_extension": ".py",
   "mimetype": "text/x-python",
   "name": "python",
   "nbconvert_exporter": "python",
   "pygments_lexer": "ipython3",
   "version": "3.7.1"
  }
 },
 "nbformat": 4,
 "nbformat_minor": 2
}
