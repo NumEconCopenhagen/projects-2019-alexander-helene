{
 "cells": [
  {
   "cell_type": "code",
   "execution_count": 1,
   "metadata": {},
   "outputs": [],
   "source": [
    "import numpy as np\n",
    "import scipy as sp\n",
    "from scipy import linalg\n",
    "from scipy import optimize\n",
    "from scipy import interpolate\n",
    "import sympy as sm\n",
    "import ipywidgets as widgets\n",
    "\n",
    "%matplotlib inline\n",
    "import matplotlib.pyplot as plt\n",
    "from matplotlib import cm\n",
    "from mpl_toolkits.mplot3d import Axes3D"
   ]
  },
  {
   "cell_type": "markdown",
   "metadata": {},
   "source": [
    "# 1. Human capital accumulation"
   ]
  },
  {
   "cell_type": "markdown",
   "metadata": {},
   "source": [
    "Consider a worker living in **two periods**, $t \\in \\{1,2\\}$. \n",
    "\n",
    "In each period she decides whether to **work ($l_t = 1$) or not ($l_t = 0$)**. \n",
    "\n",
    "She can *not* borrow or save and thus **consumes all of her income** in each period. "
   ]
  },
  {
   "cell_type": "markdown",
   "metadata": {},
   "source": [
    "If she **works** her **consumption** becomes:\n",
    "\n",
    "$$c_t = w h_t l_t\\,\\,\\text{if}\\,\\,l_t=1$$\n",
    "\n",
    "where $w$ is **the wage rate** and $h_t$ is her **human capital**. \n",
    "\n",
    "If she does **not work** her consumption becomes:\n",
    "\n",
    "$$c_t = b\\,\\,\\text{if}\\,\\,l_t=0$$\n",
    "\n",
    "where $b$ is the **unemployment benefits**."
   ]
  },
  {
   "cell_type": "markdown",
   "metadata": {},
   "source": [
    "Her **utility of consumption** is: \n",
    "\n",
    "$$ \\frac{c_t^{1-\\rho}}{1-\\rho} $$\n",
    "\n",
    "Her **disutility of working** is:\n",
    "\n",
    "$$ \\gamma l_t $$"
   ]
  },
  {
   "cell_type": "markdown",
   "metadata": {},
   "source": [
    "From period 1 to period 2, she **accumulates human capital** according to:\n",
    "\n",
    "$$ h_2 = h_1 + l_1 + \n",
    "\\begin{cases}\n",
    "0 & \\text{with prob. }0.5 \\\\\n",
    "\\Delta & \\text{with prob. }0.5 \n",
    "\\end{cases} \\\\\n",
    "$$\n",
    "\n",
    "where $\\Delta$ is a **stochastic experience gain**."
   ]
  },
  {
   "cell_type": "markdown",
   "metadata": {},
   "source": [
    "In the **second period** the worker thus solves:\n",
    "\n",
    "$$\n",
    "\\begin{eqnarray*}\n",
    "v_{2}(h_{2}) & = &\\max_{l_{2}} \\frac{c_2^{1-\\rho}}{1-\\rho} - \\gamma l_2\n",
    "\\\\ & \\text{s.t.} & \\\\\n",
    "c_{2}& = & w h_2 l_2 \\\\\n",
    "l_{2}& \\in &\\{0,1\\}\n",
    "\\end{eqnarray*}\n",
    "$$"
   ]
  },
  {
   "cell_type": "markdown",
   "metadata": {},
   "source": [
    "In the **first period** the worker thus solves:\n",
    "\n",
    "$$\n",
    "\\begin{eqnarray*}\n",
    "v_{1}(h_{1}) &=& \\max_{l_{1}} \\frac{c_1^{1-\\rho}}{1-\\rho} - \\gamma l_1 + \\beta\\mathbb{E}_{1}\\left[v_2(h_2)\\right]\n",
    "\\\\ & \\text{s.t.} & \\\\\n",
    "c_1 &=& w h_1 l_1 \\\\\n",
    "h_2 &=& h_1 + l_1 + \\begin{cases}\n",
    "0 & \\text{with prob. }0.5\\\\\n",
    "\\Delta & \\text{with prob. }0.5 \n",
    "\\end{cases}\\\\\n",
    "l_{1} &\\in& \\{0,1\\}\\\\\n",
    "\\end{eqnarray*}\n",
    "$$\n",
    "\n",
    "where $\\beta$ is the **discount factor** and $\\mathbb{E}_{1}\\left[v_2(h_2)\\right]$ is the **expected value of living in period two**."
   ]
  },
  {
   "cell_type": "markdown",
   "metadata": {},
   "source": [
    "The **parameters** of the model are:"
   ]
  },
  {
   "cell_type": "code",
   "execution_count": 2,
   "metadata": {},
   "outputs": [],
   "source": [
    "rho = 2\n",
    "beta = 0.96\n",
    "gamma = 0.1\n",
    "w = 2\n",
    "b = 1\n",
    "Delta = 0.1"
   ]
  },
  {
   "cell_type": "markdown",
   "metadata": {},
   "source": [
    "The **relevant levels of human capital** are:"
   ]
  },
  {
   "cell_type": "code",
   "execution_count": 3,
   "metadata": {},
   "outputs": [],
   "source": [
    "h_vec = np.linspace(0.1,1.5,100) "
   ]
  },
  {
   "cell_type": "markdown",
   "metadata": {},
   "source": [
    "**Question 1:** Solve the model in period 2 and illustrate the solution (including labor supply as a function of human capital). "
   ]
  },
  {
   "cell_type": "markdown",
   "metadata": {},
   "source": [
    "First we define the relevant functions:\n",
    "The method moving on is rgeatly inspired from problemset 7 and lecture 2"
   ]
  },
  {
   "cell_type": "code",
   "execution_count": 5,
   "metadata": {},
   "outputs": [],
   "source": [
    "## Defining relevant functions\n",
    "\n",
    "# a. defining utility of consumption\n",
    "def utility_of_c(c,rho):\n",
    "    \"\"\"\n",
    "    The function of utility of consumption c\n",
    "    \n",
    "    Args:\n",
    "        c (float): Consumption\n",
    "        rho (float): Measures the degree of relative risk aversion that is implicit in the utility function\n",
    "        \n",
    "    Returns:\n",
    "           The utility of consumption given the relative risk aversion.\n",
    "    \"\"\"\n",
    "    return c**(1-rho)/(1-rho)\n",
    "\n",
    "# b. disutility of work\n",
    "def disutility_of_work(gamma,l):\n",
    "    \"\"\"\n",
    "    The disutility of work\n",
    "    \n",
    "    Args:\n",
    "        gamma (float): coeficient of disutility of work\n",
    "        l (int,boolean): Register if agents is working l_t = 1 or not l_t = 0\n",
    "        \n",
    "    Returns disutility\n",
    "    \"\"\"\n",
    "    return -gamma*l\n",
    "# c. define function of consumption \n",
    "def c(w,h,l,b):\n",
    "    \"\"\"\n",
    "    consumption function\n",
    "    \n",
    "    Args:\n",
    "        w (float): Wage when working\n",
    "        h (float, list): Level of human capital\n",
    "        b (float): Benefits of not working\n",
    "        l (int,boolean): ...\n",
    "    \n",
    "    Retruns:\n",
    "        The consumption function given work or no work\n",
    "    \"\"\"\n",
    "    if l==1:\n",
    "        c = w*h*l # consumption function if working\n",
    "    else:\n",
    "        c = b # consumption function if not working\n",
    "    return c"
   ]
  },
  {
   "cell_type": "code",
   "execution_count": 6,
   "metadata": {},
   "outputs": [],
   "source": [
    "# define netutility given human capital and labour\n",
    "def v2(w,h2,l2,rho,gamma,b):\n",
    "    \"\"\"\n",
    "    Net utility in second period\n",
    "    \n",
    "    Args:\n",
    "        w (float): ...\n",
    "        h2 (float, list): Human capital second periode\n",
    "        l2 (int, boolean): dummy for work in second period\n",
    "        rho (float): ...\n",
    "        gamma (float): ...\n",
    "        b(float): ...\n",
    "    \n",
    "    Returns: The sum of utility and disutility in the second periode given human capital, h2 and labour, l2\n",
    "        \n",
    "    \"\"\"\n",
    "    return utility_of_c(c(w,h2,l2,b),rho) + disutility_of_work(gamma,l2)"
   ]
  },
  {
   "cell_type": "code",
   "execution_count": 7,
   "metadata": {},
   "outputs": [],
   "source": [
    "# Define \n",
    "def solve_periode_2(w,h_vec,rho,gamma,b,Delta):\n",
    "    \"\"\"\n",
    "    function for solution in second period: sloves the model in the second periode\n",
    "    \n",
    "    Args:\n",
    "        w (float): ...\n",
    "        h_vec (list,tuple,ndarray): Vector of the different values of human capital\n",
    "        rho (float): ...\n",
    "        gamma (float): ...\n",
    "        b (float):...\n",
    "        Delta (float): Is a value to determine high and low accumulation of human capital\n",
    "    \n",
    "    Returns:\n",
    "        l2_vec which is a vector (list) of the optimal labour supply given different values of h.\n",
    "        v2_vec which is a vecotor (ndarray) of the net-utility given different values of both l and h.\n",
    "    \"\"\"\n",
    "    # a. Grids\n",
    "    # i. set the number of elements in array\n",
    "    N = 100\n",
    "    \n",
    "    # ii. Create 3 new empty arrays of 100 elemnts without initializing entries\n",
    "    l2_vec = np.empty(N)\n",
    "    v2_vec = np.empty(N)\n",
    "    \n",
    "    # b. sets l2 = 1 for every h in h_vec that execute a higher utility working than not working.\n",
    "    # Otherwise let L2 = 0\n",
    "    for i,h2 in enumerate(h_vec):\n",
    "        if v2(w,h2,1,rho,gamma,b) >= v2(w,h2,0,rho,gamma,b):\n",
    "            l2_vec[i] = 1\n",
    "        else:\n",
    "            l2_vec[i] = 0\n",
    "    #c. Generate a vector for net-utility in second period\n",
    "        v2_vec[i] = v2(w,h2,l2_vec[i],rho,gamma,b)\n",
    "        \n",
    "    return v2_vec,l2_vec\n",
    "\n",
    "# d. call the optimal labour supply, net-utility and consumption\n",
    "l2_vec, v2_vec = solve_periode_2(w,h_vec,rho,gamma,b,Delta)\n",
    "\n",
    "# e. construct interpolator (function based on fixed data points)\n",
    "v2_interp=interpolate.RegularGridInterpolator((h_vec,),v2_vec, bounds_error=False,fill_value=None)"
   ]
  },
  {
   "cell_type": "code",
   "execution_count": 8,
   "metadata": {},
   "outputs": [],
   "source": [
    "## Making vectors of human capital to display the utility of working and not working\n",
    "#if consumer choses to work\n",
    "h2_vec_l = h_vec + 1 + Delta*0.5\n",
    "\n",
    "#if he chooses not to work\n",
    "h2_vec_ = h_vec + 0 + Delta*0.5\n",
    "\n",
    "emptyarray = np.empty(100) # c\n",
    "nowork_utility = []\n",
    "for i in emptyarray:\n",
    "    nowork_utility.append(v2(w,h2_vec_ ,0,rho,gamma,b))"
   ]
  },
  {
   "cell_type": "code",
   "execution_count": 9,
   "metadata": {},
   "outputs": [
    {
     "data": {
      "text/plain": [
       "<matplotlib.legend.Legend at 0x1c6a6e67278>"
      ]
     },
     "execution_count": 9,
     "metadata": {},
     "output_type": "execute_result"
    },
    {
     "data": {
      "image/png": "[encoded data removed]",
      "text/plain": [
       "<Figure size 432x288 with 1 Axes>"
      ]
     },
     "metadata": {
      "needs_background": "light"
     },
     "output_type": "display_data"
    },
    {
     "data": {
      "image/png": "[encoded data removed]",
      "text/plain": [
       "<Figure size 432x288 with 1 Axes>"
      ]
     },
     "metadata": {
      "needs_background": "light"
     },
     "output_type": "display_data"
    }
   ],
   "source": [
    "# c. plot\n",
    "#Sub_fig_1\n",
    "fig1_1 = plt.figure()\n",
    "ax1 = fig1_1.add_subplot(1,1,1)\n",
    "ax1.plot(h2_vec_, v2(w,h2_vec_,1,rho,gamma,b), label = 'If $l_2=1$')\n",
    "plt.plot(h2_vec_, nowork_utility         , label = 'If $l_2=0$')\n",
    "ax1.plot(h_vec, l2_vec, label = 'Optimal utility')\n",
    "ax1.legend(loc='lower right')\n",
    "\n",
    "ax1.grid()\n",
    "ax1.set_xlabel('$h_2$')\n",
    "ax1.set_ylabel('Net Utility')\n",
    "ax1.set_title('Net-Utiliy function in period 2')\n",
    "ax1.set_xlim([0,1.7])\n",
    "ax1.set_ylim([-2,0]);\n",
    "\n",
    "#sub_fig_2\n",
    "fig1_2 = plt.figure()\n",
    "ax2 = fig1_2.add_subplot(1,1,1)\n",
    "ax2.plot(h_vec, v2_vec, label = 'Labour supply')\n",
    "ax2.grid()\n",
    "ax2.set_xlabel('$h_2$')\n",
    "ax2.set_ylabel('Labor supply')\n",
    "ax2.set_title('Labour supply')\n",
    "ax1.legend(loc='lower right')\n"
   ]
  },
  {
   "cell_type": "markdown",
   "metadata": {},
   "source": [
    "The green line in the first figure display the optimal utility when only choosing to work after the threshold. As a consequense the second figure display the jump in labour supply from 0 to 1 the moment it gets advantageous to work which is approximately h_2 = 0.56."
   ]
  },
  {
   "cell_type": "markdown",
   "metadata": {},
   "source": [
    "**Question 2:** Solve the model in period 1 and illustrate the solution (including labor supply as a function of human capital). "
   ]
  },
  {
   "cell_type": "code",
   "execution_count": 10,
   "metadata": {},
   "outputs": [],
   "source": [
    "def v1(w,l1,h1,rho,beta,gamma,Delta,b,v2_interp):\n",
    "    '''\n",
    "    function for the net utility of the first period given the expected net utility in second period\n",
    "    \n",
    "    Args:\n",
    "        w (float): ...\n",
    "        l1 (int, boolean): Dummy for working in period 1\n",
    "        h1 (float, list): human capital accumulated in periode 1\n",
    "        rho (float): ...\n",
    "        beta (float): ...\n",
    "        gamma (float): ...\n",
    "        Delta (float): ...\n",
    "        b (float): ...\n",
    "        v2_interp (ndarray): is the net utility of periode 2 \n",
    "    \n",
    "    Return: The net utility of periode 1.\n",
    "    '''\n",
    "    \n",
    "    # a. v2 value, if working but low human capital\n",
    "    h2_low = h1 + l1 + 0\n",
    "    v2_low = v2_interp([h2_low])[0]\n",
    "   \n",
    "    # b. v2 value, if working and having high human capital\n",
    "    h2_high = h1 + l1 + Delta\n",
    "    v2_high = v2_interp([h2_high])[0]\n",
    "    \n",
    "    # c. expected v2 value\n",
    "    v2 = 0.5*v2_low + 0.5*v2_high\n",
    "    \n",
    "    # d. net utility\n",
    "    return utility_of_c(c(w,h1,l1,b),rho) + disutility_of_work(gamma,l1) + beta*v2-1"
   ]
  },
  {
   "cell_type": "code",
   "execution_count": 11,
   "metadata": {},
   "outputs": [],
   "source": [
    "# periode 1\n",
    "\n",
    "def solve_periode_1(w,h_vec,rho,beta,gamma,Delta,b,v2_interp):\n",
    "    \"\"\"\n",
    "    function for solution in second period: sloves the model in the second periode\n",
    "    \n",
    "    Returns:\n",
    "        l1_vec which is a vector (list) of the optimal labour supply given different values of h.\n",
    "        v1_vec which is a vecotor (ndarray) of the net-utility given different values of both l and h.\n",
    "    \"\"\"\n",
    "    # a. Grids\n",
    "    # i. set the number of elements in array\n",
    "    N=100\n",
    "    \n",
    "    # ii. Create 3 new empty arrays of 100 elemnts without initializing entries\n",
    "    l1_vec = np.empty(N)\n",
    "    v1_vec = np.empty(N)\n",
    "    no_work = np.empty(N)\n",
    "    \n",
    "    # b. sets l1 = 1 for every h in h_vec that execute a higher utility working than not working.\n",
    "    # Otherwise let L1 = 0\n",
    "    for i, h1 in enumerate(h_vec):\n",
    "        if v1(w,1,h1,rho,beta,gamma,Delta,b,v2_interp) >= v1(w,0,h1,rho,beta,gamma,Delta,b,v2_interp):\n",
    "            l1_vec[i] = 1\n",
    "        else:\n",
    "            l1_vec[i] = 0\n",
    "    #c. Generate a vector for net-utility in first period   \n",
    "        v1_vec[i] = v1(w,l1_vec[i],h1,rho,beta,gamma,Delta,b,v2_interp)\n",
    "        \n",
    "    return v1_vec,l1_vec\n",
    "# d. call the optimal labour supply, net-utility and consumption\n",
    "v1_vec, l1_vec = solve_periode_1(w,h_vec,rho,beta,gamma,Delta,b,v2_interp)"
   ]
  },
  {
   "cell_type": "code",
   "execution_count": 12,
   "metadata": {},
   "outputs": [
    {
     "data": {
      "text/plain": [
       "Text(0.5, 1.0, 'Labour supply')"
      ]
     },
     "execution_count": 12,
     "metadata": {},
     "output_type": "execute_result"
    },
    {
     "data": {
      "image/png": "[encoded data removed]",
      "text/plain": [
       "<Figure size 432x288 with 1 Axes>"
      ]
     },
     "metadata": {
      "needs_background": "light"
     },
     "output_type": "display_data"
    },
    {
     "data": {
      "image/png": "[encoded data removed]",
      "text/plain": [
       "<Figure size 432x288 with 1 Axes>"
      ]
     },
     "metadata": {
      "needs_background": "light"
     },
     "output_type": "display_data"
    }
   ],
   "source": [
    "# plot\n",
    "#Sub_fig_1\n",
    "fig2_1 = plt.figure()\n",
    "ax1 = fig2_1.add_subplot(1,1,1)\n",
    "ax1.plot(h_vec, v1_vec, label = 'Optimal utility')\n",
    "\n",
    "ax1.grid()\n",
    "ax1.set_xlabel('$h_1$')\n",
    "ax1.set_ylabel('Net Utility')\n",
    "ax1.set_title('Net-Utiliy function in period 1')\n",
    "\n",
    "#sub_fig_2\n",
    "fig2_2 = plt.figure()\n",
    "ax2 = fig2_2.add_subplot(1,1,1)\n",
    "ax2.plot(h_vec, l1_vec, label = 'Labour supply')\n",
    "\n",
    "ax2.grid()\n",
    "ax2.set_xlabel('$h_1$')\n",
    "ax2.set_ylabel('Labor supply')\n",
    "ax2.set_title('Labour supply')"
   ]
  },
  {
   "cell_type": "markdown",
   "metadata": {},
   "source": [
    "It is the same result as in periode 2, that for low enough human capital you wont work."
   ]
  },
  {
   "cell_type": "markdown",
   "metadata": {},
   "source": [
    "**Question 3:** Will the worker never work if her potential wage income is lower than the unemployment benefits she can get? Explain and illustrate why or why not."
   ]
  },
  {
   "cell_type": "markdown",
   "metadata": {},
   "source": [
    "By using the plots already shown we can state that with benefits higher than wages the agent will still choose to work given high enough human capital."
   ]
  },
  {
   "cell_type": "code",
   "execution_count": 13,
   "metadata": {},
   "outputs": [
    {
     "data": {
      "application/vnd.jupyter.widget-view+json": {
       "model_id": "a020e708f2434f47b2bc42e35996732e",
       "version_major": 2,
       "version_minor": 0
      },
      "text/plain": [
       "interactive(children=(FloatSlider(value=2.0, description='wage', max=3.0), FloatSlider(value=0.96, description…"
      ]
     },
     "metadata": {},
     "output_type": "display_data"
    }
   ],
   "source": [
    "def interactive_figure(w,beta,b,):\n",
    "    \n",
    "    l2_vec, v2_vec = solve_periode_2(w,h_vec,rho,gamma,b,Delta)\n",
    "    l1_vec, v1_vec = solve_periode_1(w,h_vec,rho,beta,gamma,Delta,b,v2_interp)\n",
    "    \n",
    "   \n",
    "   \n",
    "    # b. figure\n",
    "    fig1_1 = plt.figure()\n",
    "    ax1 = fig1_1.add_subplot(1,1,1)\n",
    "    ax1.plot(h2_vec_, v2(w,h2_vec_,1,rho,gamma,b), label = 'If $l_2=1$')\n",
    "    plt.plot(h2_vec_, nowork_utility         , label = 'If $l_2=0$')\n",
    "    ax1.plot(h_vec, l2_vec, label = 'Optimal utility')\n",
    "    ax1.legend(loc='lower right')\n",
    "\n",
    "    ax1.grid()\n",
    "    ax1.set_xlabel('$h_2$')\n",
    "    ax1.set_ylabel('Net Utility')\n",
    "    ax1.set_title('Net-Utiliy function in period 2')\n",
    "    ax1.set_xlim([0,1.7])\n",
    "    ax1.set_ylim([-2,0])\n",
    "    \n",
    "    fig2_1 = plt.figure()\n",
    "    ax2 = fig2_1.add_subplot(1,1,1)\n",
    "    ax2.plot(h_vec, l1_vec, label = 'Optimal utility')\n",
    "\n",
    "    ax2.grid()\n",
    "    ax2.set_xlabel('$h_1$')\n",
    "    ax2.set_ylabel('Net Utility')\n",
    "    ax2.set_title('Net-Utiliy function in period 1');\n",
    "\n",
    "\n",
    "widgets.interact(interactive_figure,\n",
    "    w=widgets.FloatSlider(description=\"wage\", min=0, max=3, step=0.1, value=2),\n",
    "    b=widgets.FloatSlider(description=\"benefits\", min=0, max=3, step=0.1, value=1),\n",
    "    beta=widgets.FloatSlider(description=\"$beta$\", min=0, max=3, step=0.1, value=0.96),\n",
    ");"
   ]
  },
  {
   "cell_type": "markdown",
   "metadata": {},
   "source": [
    "It is a little difficult to see it in periode 1 because we were unable to figure out how to show work and non work in that periode, however it is still possible to see the last kink in the curve where i gets rounded. That is where the agent starts working. So given high enough human capital."
   ]
  },
  {
   "cell_type": "markdown",
   "metadata": {},
   "source": [
    "# 2. AS-AD model"
   ]
  },
  {
   "cell_type": "markdown",
   "metadata": {},
   "source": [
    "Consider the following **AS-AD model**. The **goods market equilibrium** is given by\n",
    "\n",
    "$$ y_{t} = -\\alpha r_{t} + v_{t} $$\n",
    "\n",
    "where $y_{t}$ is the **output gap**, $r_{t}$ is the **ex ante real interest** and $v_{t}$ is a **demand disturbance**. "
   ]
  },
  {
   "cell_type": "markdown",
   "metadata": {},
   "source": [
    "The central bank's **Taylor rule** is\n",
    "\n",
    "$$ i_{t} = \\pi_{t+1}^{e} + h \\pi_{t} + b y_{t}$$\n",
    "\n",
    "where $i_{t}$ is the **nominal interest rate**, $\\pi_{t}$ is the **inflation gap**, and $\\pi_{t+1}^{e}$ is the **expected inflation gap**. "
   ]
  },
  {
   "cell_type": "markdown",
   "metadata": {},
   "source": [
    "The **ex ante real interest rate** is given by \n",
    "\n",
    "$$ r_{t} = i_{t} - \\pi_{t+1}^{e} $$"
   ]
  },
  {
   "cell_type": "markdown",
   "metadata": {},
   "source": [
    "Together, the above implies that the **AD-curve** is\n",
    "\n",
    "$$ \\pi_{t} = \\frac{1}{h\\alpha}\\left[v_{t} - (1+b\\alpha)y_{t}\\right]$$"
   ]
  },
  {
   "cell_type": "markdown",
   "metadata": {},
   "source": [
    "Further, assume that the **short-run supply curve (SRAS)** is given by\n",
    "\n",
    "$$ \\pi_{t} = \\pi_{t}^{e} + \\gamma y_{t} + s_{t}$$\n",
    "\n",
    "where $s_t$ is a **supply disturbance**."
   ]
  },
  {
   "cell_type": "markdown",
   "metadata": {},
   "source": [
    "**Inflation expectations are adaptive** and given by\n",
    "\n",
    "$$ \\pi_{t}^{e} = \\phi\\pi_{t-1}^{e} + (1-\\phi)\\pi_{t-1}$$"
   ]
  },
  {
   "cell_type": "markdown",
   "metadata": {},
   "source": [
    "Together, this implies that the **SRAS-curve** can also be written as\n",
    "\n",
    "$$ \\pi_{t} = \\pi_{t-1} + \\gamma y_{t} - \\phi\\gamma y_{t-1} + s_{t} - \\phi s_{t-1} $$"
   ]
  },
  {
   "cell_type": "markdown",
   "metadata": {},
   "source": [
    "The **parameters** of the model are:"
   ]
  },
  {
   "cell_type": "code",
   "execution_count": 4,
   "metadata": {},
   "outputs": [],
   "source": [
    "par = {}\n",
    "\n",
    "par['alpha'] = 5.76\n",
    "par['h'] = 0.5\n",
    "par['b'] = 0.5\n",
    "par['phi'] = 0\n",
    "par['gamma'] = 0.075"
   ]
  },
  {
   "cell_type": "markdown",
   "metadata": {},
   "source": [
    "**Question 1:** Use the ``sympy`` module to solve for the equilibrium values of output, $y_t$, and inflation, $\\pi_t$, (where AD = SRAS) given the parameters ($\\alpha$, $h$, $b$, $\\alpha$, $\\gamma$) and $y_{t-1}$ , $\\pi_{t-1}$, $v_t$, $s_t$, and $s_{t-1}$.\n",
    "\n",
    "**Question 2:** Find and illustrate the equilibrium when $y_{t-1} = \\pi_{t-1} = v_t = s_t = s_{t-1} = 0$. Illustrate how the equilibrium changes when instead $v_t = 0.1$."
   ]
  },
  {
   "cell_type": "markdown",
   "metadata": {},
   "source": [
    "**Persistent disturbances:** Now, additionaly, assume that both the demand and the supply disturbances are AR(1) processes\n",
    "\n",
    "$$ v_{t} = \\delta v_{t-1} + x_{t} $$\n",
    "$$ s_{t} = \\omega s_{t-1} + c_{t} $$\n",
    "\n",
    "where $x_{t}$ is a **demand shock**, and $c_t$ is a **supply shock**. The **autoregressive parameters** are:"
   ]
  },
  {
   "cell_type": "code",
   "execution_count": 5,
   "metadata": {},
   "outputs": [],
   "source": [
    "par['delta'] = 0.80\n",
    "par['omega'] = 0.15"
   ]
  },
  {
   "cell_type": "markdown",
   "metadata": {},
   "source": [
    "**Question 3:** Starting from $y_{-1} = \\pi_{-1} = s_{-1} = 0$, how does the economy evolve for $x_0 = 0.1$, $x_t = 0, \\forall t > 0$ and $c_t = 0, \\forall t \\geq 0$?"
   ]
  },
  {
   "cell_type": "markdown",
   "metadata": {},
   "source": [
    "**Stochastic shocks:** Now, additionally, assume that $x_t$ and $c_t$ are stochastic and normally distributed\n",
    "\n",
    "$$ x_{t}\\sim\\mathcal{N}(0,\\sigma_{x}^{2}) $$\n",
    "$$ c_{t}\\sim\\mathcal{N}(0,\\sigma_{c}^{2}) $$\n",
    "\n",
    "The **standard deviations of the shocks** are:"
   ]
  },
  {
   "cell_type": "code",
   "execution_count": 6,
   "metadata": {},
   "outputs": [],
   "source": [
    "par['sigma_x'] = 3.492\n",
    "par['sigma_c'] = 0.2"
   ]
  },
  {
   "cell_type": "markdown",
   "metadata": {},
   "source": [
    "**Question 4:** Simulate the AS-AD model for 1,000 periods. Calculate the following five statistics:\n",
    "\n",
    "1. Variance of $y_t$, $var(y_t)$\n",
    "2. Variance of $\\pi_t$, $var(\\pi_t)$\n",
    "3. Correlation between $y_t$ and $\\pi_t$, $corr(y_t,\\pi_t)$\n",
    "4. Auto-correlation between $y_t$ and $y_{t-1}$, $corr(y_t,y_{t-1})$\n",
    "5. Auto-correlation between $\\pi_t$ and $\\pi_{t-1}$, $corr(\\pi_t,\\pi_{t-1})$"
   ]
  },
  {
   "cell_type": "markdown",
   "metadata": {},
   "source": [
    "**Question 5:** Plot how the correlation between $y_t$ and $\\pi_t$ changes with $\\phi$. Use a numerical optimizer or root finder to choose $\\phi\\in(0,1)$ such that the simulated correlation between $y_t$ and $\\pi_t$ comes close to 0.31. "
   ]
  },
  {
   "cell_type": "markdown",
   "metadata": {},
   "source": [
    "**Quesiton 6:** Use a numerical optimizer to choose $\\sigma_x>0$, $\\sigma_c>0$ and $\\phi\\in(0,1)$ to make the simulated statistics as close as possible to US business cycle data where:\n",
    "\n",
    "1. $var(y_t) = 1.64$\n",
    "2. $var(\\pi_t) = 0.21$\n",
    "3. $corr(y_t,\\pi_t) = 0.31$\n",
    "4. $corr(y_t,y_{t-1}) = 0.84$\n",
    "5. $corr(\\pi_t,\\pi_{t-1}) = 0.48$"
   ]
  },
  {
   "cell_type": "markdown",
   "metadata": {},
   "source": [
    "# 3. Exchange economy"
   ]
  },
  {
   "cell_type": "markdown",
   "metadata": {},
   "source": [
    "Consider an **exchange economy** with\n",
    "\n",
    "1. 3 goods, $(x_1,x_2,x_3)$\n",
    "2. $N$ consumers indexed by \\\\( j \\in \\{1,2,\\dots,N\\} \\\\)\n",
    "3. Preferences are Cobb-Douglas with log-normally distributed coefficients\n",
    "\n",
    "    $$ \\begin{eqnarray*}\n",
    "    u^{j}(x_{1},x_{2},x_{3}) &=& \n",
    "    \\left(x_{1}^{\\beta_{1}^{j}}x_{2}^{\\beta_{2}^{j}}x_{3}^{\\beta_{3}^{j}}\\right)^{\\gamma}\\\\\n",
    "     &  & \\,\\,\\,\\beta_{i}^{j}=\\frac{\\alpha_{i}^{j}}{\\alpha_{1}^{j}+\\alpha_{2}^{j}+\\alpha_{3}^{j}} \\\\\n",
    "     &  & \\,\\,\\,\\boldsymbol{\\alpha}^{j}=(\\alpha_{1}^{j},\\alpha_{2}^{j},\\alpha_{3}^{j}) \\\\ \n",
    "     &  & \\,\\,\\,\\log(\\boldsymbol{\\alpha}^j) \\sim \\mathcal{N}(\\mu,\\Sigma) \\\\\n",
    "    \\end{eqnarray*} $$\n",
    "\n",
    "4. Endowments are exponentially distributed,\n",
    "\n",
    "$$\n",
    "\\begin{eqnarray*}\n",
    "\\boldsymbol{e}^{j} &=& (e_{1}^{j},e_{2}^{j},e_{3}^{j}) \\\\\n",
    " &  & e_i^j \\sim f, f(z;\\zeta) =  1/\\zeta \\exp(-z/\\zeta)\n",
    "\\end{eqnarray*}\n",
    "$$"
   ]
  },
  {
   "cell_type": "markdown",
   "metadata": {},
   "source": [
    "Let $p_3 = 1$ be the **numeraire**. The implied **demand functions** are:\n",
    "\n",
    "$$\n",
    "\\begin{eqnarray*}\n",
    "x_{i}^{\\star j}(p_{1},p_{2},\\boldsymbol{e}^{j})&=&\\beta^{j}_i\\frac{I^j}{p_{i}} \\\\\n",
    "\\end{eqnarray*}\n",
    "$$\n",
    "\n",
    "where consumer $j$'s income is\n",
    "\n",
    "$$I^j = p_1 e_1^j + p_2 e_2^j +p_3 e_3^j$$"
   ]
  },
  {
   "cell_type": "markdown",
   "metadata": {},
   "source": [
    "The **parameters** and **random preferences and endowments** are given by:"
   ]
  },
  {
   "cell_type": "code",
   "execution_count": 2,
   "metadata": {},
   "outputs": [],
   "source": [
    "# a. parameters\n",
    "N = 50000\n",
    "mu = np.array([3,2,1])\n",
    "Sigma = np.array([[0.25, 0, 0], [0, 0.25, 0], [0, 0, 0.25]])\n",
    "gamma = 0.8\n",
    "zeta = 1\n",
    "\n",
    "# b. random draws\n",
    "seed = 1986\n",
    "np.random.seed(seed)\n",
    "\n",
    "# preferences\n",
    "    #draw alphas\n",
    "alphas = np.exp(np.random.multivariate_normal(mu, Sigma, size=N))\n",
    "\n",
    "#draw betas\n",
    "betas = alphas/np.reshape(np.sum(alphas,axis=1),(N,1))\n",
    "\n",
    "# endowments\n",
    "e1 = np.random.exponential(zeta,size=N)\n",
    "e2 = np.random.exponential(zeta,size=N)\n",
    "e3 = np.random.exponential(zeta,size=N)"
   ]
  },
  {
   "cell_type": "markdown",
   "metadata": {},
   "source": [
    "**Question 1:** Plot the histograms of the budget shares for each good across agents."
   ]
  },
  {
   "cell_type": "code",
   "execution_count": 3,
   "metadata": {},
   "outputs": [
    {
     "data": {
      "image/png": "[encoded data removed]",
      "text/plain": [
       "<Figure size 600x400 with 1 Axes>"
      ]
     },
     "metadata": {
      "needs_background": "light"
     },
     "output_type": "display_data"
    }
   ],
   "source": [
    "## plot histogram of budgetshares of the three goods\n",
    "fig = plt.figure(dpi=100)\n",
    "ax = fig.add_subplot(1,1,1)\n",
    "ax.hist(betas,bins=90,density=True,label=['Good 1', 'Good 2', 'Good 3'])\n",
    "ax.set_title('The budget shares of three goods')\n",
    "ax.set_xlabel('betas')\n",
    "ax.set_ylabel('Consumers')\n",
    "ax.legend(loc='upper right');"
   ]
  },
  {
   "cell_type": "markdown",
   "metadata": {},
   "source": [
    "The budget shares are given by the fraction of demand of each good:\n",
    "\n",
    "$$\n",
    "\\begin{eqnarray*}\n",
    "\\frac{x_{i}^{\\star j}(p_{1},p_{2},\\boldsymbol{e}^{j})}{I}&=& \\frac{\\beta^{j}_i\\frac{I^j}{p_{i}}}{I} &=& \\frac{\\beta^{j}_i}{p_{i}}  \\\\\n",
    "\\end{eqnarray*}\n",
    "$$\n",
    "\n",
    "The y-axis indicate consumers pr thousands, and the beta tells us the share of their budget they use on each good. As can be seen from the histogram consumers use the moste of their budget on good 1. Then good 2 and lastly good 3."
   ]
  },
  {
   "cell_type": "markdown",
   "metadata": {},
   "source": [
    "Consider the **excess demand functions:**\n",
    "\n",
    "$$ z_i(p_1,p_2) = \\sum_{j=1}^N x_{i}^{\\star j}(p_{1},p_{2},\\boldsymbol{e}^{j}) - e_i^j$$\n",
    "\n",
    "**Question 2:** Plot the excess demand functions."
   ]
  },
  {
   "cell_type": "code",
   "execution_count": 4,
   "metadata": {},
   "outputs": [
    {
     "name": "stdout",
     "output_type": "stream",
     "text": [
      "[[0.53104511 0.30693723 0.16201766]\n",
      " [0.50866997 0.4162364  0.07509363]\n",
      " [0.83317207 0.07722226 0.08960567]\n",
      " ...\n",
      " [0.63725404 0.22027742 0.14246854]\n",
      " [0.78205036 0.11988119 0.09806844]\n",
      " [0.65552751 0.24728801 0.09718448]]\n"
     ]
    }
   ],
   "source": [
    "## Slicing the arrays \n",
    "print(betas)"
   ]
  },
  {
   "cell_type": "code",
   "execution_count": 5,
   "metadata": {},
   "outputs": [
    {
     "data": {
      "text/plain": [
       "array([0.53104511, 0.50866997, 0.83317207, ..., 0.63725404, 0.78205036,\n",
       "       0.65552751])"
      ]
     },
     "execution_count": 5,
     "metadata": {},
     "output_type": "execute_result"
    }
   ],
   "source": [
    "## We want to slice the arrays so we can define the demand of each good\n",
    "## taking all rows (:) but keeping the first column (1) and so on\n",
    "\n",
    "beta_g1 = betas[:,0]\n",
    "beta_g1"
   ]
  },
  {
   "cell_type": "code",
   "execution_count": 6,
   "metadata": {},
   "outputs": [
    {
     "data": {
      "text/plain": [
       "array([0.16201766, 0.07509363, 0.08960567, ..., 0.14246854, 0.09806844,\n",
       "       0.09718448])"
      ]
     },
     "execution_count": 6,
     "metadata": {},
     "output_type": "execute_result"
    }
   ],
   "source": [
    "beta_g3 = betas[:,2]\n",
    "beta_g3"
   ]
  },
  {
   "cell_type": "code",
   "execution_count": 7,
   "metadata": {},
   "outputs": [],
   "source": [
    "## The method used is greatly inspired from problemset 2 and 7 and lecture 3 and 4\n",
    "\n",
    "# a. Define demandfunctions\n",
    "\n",
    "def demand_g1(betas,e1,e2,e3,p1,p2):\n",
    "    '''\n",
    "    calculates the demand of good 1\n",
    "    \n",
    "    Args:\n",
    "        p1 (float): Price for good 1\n",
    "        p2 (float): Price for good 2\n",
    "        e1 (numpy array): Endowments of good 1\n",
    "        e2 (numpy array): Endowments of good 2\n",
    "        e3 (numpy array): Endowments of good 3\n",
    "        betas (type: numpy ndarray): Preferences for goods\n",
    "        \n",
    "    Return: Demand of good 1. (It is the same arguments for all goods)\n",
    "    '''\n",
    "    I = p1*e1+p2*e2+e3\n",
    "    return betas[:,0]*I/p1\n",
    "\n",
    "def demand_g2(betas,e1,e2,e3,p1,p2):\n",
    "    I = p1*e1+p2*e2+e3\n",
    "    return betas[:,1]*I/p2\n",
    "\n",
    "# As p3 = 1 we do not need to specify the demand of good 3"
   ]
  },
  {
   "cell_type": "code",
   "execution_count": 8,
   "metadata": {},
   "outputs": [],
   "source": [
    "# b. Calculate excess demand\n",
    "# excess demand good 1\n",
    "def excess_demand_g1(betas, p1, p2, e1, e2, e3):\n",
    "    \"\"\"\n",
    "    Calculating excess demand of good 1\n",
    "    \n",
    "    Returns:\n",
    "        excess (float): Excess demand of good 1\n",
    "    \"\"\"\n",
    "    # i. sum array of demand\n",
    "    demand = np.sum(demand_g1(betas,e1,e2,e3,p1,p2))\n",
    "    \n",
    "    # ii. sum array of supply\n",
    "    supply = np.sum(e1)\n",
    "    \n",
    "    # iii. Calculate excess demand\n",
    "    excess_demand = demand - supply\n",
    "    \n",
    "    return excess_demand\n",
    "\n",
    "# excess demand good 2\n",
    "def excess_demand_g2(betas, p1, p2, e1, e2, e3):\n",
    "    \n",
    "    # i. sum array of demand\n",
    "    demand = np.sum(demand_g2(betas,e1,e2,e3,p1,p2))\n",
    "    \n",
    "    # ii. sum array of supply\n",
    "    supply = np.sum(e2)\n",
    "    \n",
    "     # iii. Calculate excess demand\n",
    "    excess_demand = demand - supply\n",
    "    \n",
    "    return excess_demand"
   ]
  },
  {
   "cell_type": "code",
   "execution_count": 9,
   "metadata": {},
   "outputs": [],
   "source": [
    "# to illustrate the excess demand function we need to specify pricevectors of p1\n",
    "# and p2. We can then fill the numpy arrays (grids) of the excess demand functions.\n",
    "\n",
    "# a. choosing number of values and maximum price\n",
    "p_max = 10\n",
    "seize = 100\n",
    "shape_tuple = (seize,seize)\n",
    "\n",
    "# b. Generating arrays of prices\n",
    "p1_vec = np.linspace(0.1,p_max,seize)\n",
    "p2_vec = np.linspace(0.1,p_max,seize)\n",
    "\n",
    "# c. allocate numpy arrays\n",
    "excess1_grid = np.empty(shape_tuple)\n",
    "excess2_grid = np.empty(shape_tuple)\n",
    "\n",
    "# d. Transforming price-vectors to grids\n",
    "p1_grid,p2_grid = np.meshgrid(p1_vec,p2_vec,indexing='ij')\n",
    "\n",
    "for i,p1 in enumerate(p1_vec):\n",
    "    for j,p2 in enumerate(p2_vec):\n",
    "        excess1_grid[i,j] = excess_demand_g1(betas, p1, p2, e1, e2, e3)\n",
    "        excess2_grid[i,j] = excess_demand_g2(betas, p1, p2, e1, e2, e3)"
   ]
  },
  {
   "cell_type": "code",
   "execution_count": 10,
   "metadata": {},
   "outputs": [
    {
     "data": {
      "text/plain": [
       "''"
      ]
     },
     "execution_count": 10,
     "metadata": {},
     "output_type": "execute_result"
    },
    {
     "data": {
      "image/png": "[encoded data removed]",
      "text/plain": [
       "<Figure size 432x288 with 1 Axes>"
      ]
     },
     "metadata": {
      "needs_background": "light"
     },
     "output_type": "display_data"
    },
    {
     "data": {
      "image/png": "[encoded data removed]",
      "text/plain": [
       "<Figure size 432x288 with 1 Axes>"
      ]
     },
     "metadata": {
      "needs_background": "light"
     },
     "output_type": "display_data"
    }
   ],
   "source": [
    "fig = plt.figure() # create the figure\n",
    "ax = fig.add_subplot(1,1,1,projection='3d') # create a 3d axis in the figure \n",
    "ax.plot_surface(p1_grid,p2_grid,excess1_grid)\n",
    "ax.set_title('Excess demand good 1')\n",
    "ax.set_xlabel('$p_1$')\n",
    "ax.set_ylabel('$p_2$')\n",
    "\n",
    "\n",
    "\n",
    "fig = plt.figure() # create the figure\n",
    "ax1 = fig.add_subplot(1,1,1,projection='3d') # create a 3d axis in the figure \n",
    "ax1.plot_surface(p1_grid,p2_grid,excess2_grid)\n",
    "ax1.set_title('Excess demand good 2')\n",
    "ax1.set_xlabel('$p_1$')\n",
    "ax1.set_ylabel('$p_2$')\n",
    "\n",
    ";"
   ]
  },
  {
   "cell_type": "markdown",
   "metadata": {},
   "source": [
    "**Quesiton 3:** Find the Walras-equilibrium prices, $(p_1,p_2)$, where both excess demands are (approximately) zero, e.g. by using the following tâtonnement process:\n",
    "\n",
    "1. Guess on $p_1 > 0$, $p_2 > 0$ and choose tolerance $\\epsilon > 0$ and adjustment aggressivity parameter, $\\kappa > 0$.\n",
    "2. Calculate $z_1(p_1,p_2)$ and $z_2(p_1,p_2)$.\n",
    "3. If $|z_1| < \\epsilon$ and $|z_2| < \\epsilon$ then stop.\n",
    "4. Else set $p_1 = p_1 + \\kappa \\frac{z_1}{N}$ and $p_2 = p_2 + \\kappa \\frac{z_2}{N}$ and return to step 2."
   ]
  },
  {
   "cell_type": "code",
   "execution_count": 11,
   "metadata": {},
   "outputs": [],
   "source": [
    "\n",
    "# equilibrium function\n",
    "def find_equilibrium(betas,p1,p2,p3,e1,e2,e3,kappa=0.5,eps=1e-8,maxiter=50000):\n",
    "    \n",
    "    t = 1\n",
    "    while True:\n",
    "        \n",
    "        # a. step 1: excess demand\n",
    "        Z1 = excess_demand_g1(betas, p1, p2, e1, e2, e3)\n",
    "        Z2 = excess_demand_g2(betas, p1, p2, e1, e2, e3)\n",
    "        \n",
    "        # b. step 2: stop?\n",
    "        if (np.abs(Z1) < eps or np.abs(Z2) < eps) or t >= maxiter:\n",
    "            print(f'{t:3d}: p1 = {p1:12.8f} -> excess demand -> {Z1:14.8f}')\n",
    "            print(f'{t:3d}: p2 = {p2:12.8f} -> excess demand -> {Z2:14.8f}')\n",
    "            break\n",
    "        \n",
    "        # c. step 3: update p1 and p2\n",
    "        p1 = p1 + kappa*Z1/N\n",
    "        p2 = p2 + kappa*Z2/N\n",
    "        \n",
    "        # d. step 4: return\n",
    "        if t < 5 or t%2500 == 0:\n",
    "            print(f'{t:3d}: p1 = {p1:12.8f} -> excess demand -> {Z1:14.8f}')\n",
    "            print(f'{t:3d}: p2 = {p2:12.8f} -> excess demand -> {Z2:14.8f}')\n",
    "        elif t == 5:\n",
    "            print ('    ...')\n",
    "            \n",
    "         \n",
    "        t += 1 # Updating iteration counter\n",
    "    \n",
    "    return p1, p2"
   ]
  },
  {
   "cell_type": "code",
   "execution_count": 12,
   "metadata": {},
   "outputs": [
    {
     "name": "stdout",
     "output_type": "stream",
     "text": [
      "  1: p1 =   5.00275451 -> excess demand ->  1377.25348781\n",
      "  1: p2 =   2.00357081 -> excess demand ->  1785.40484742\n",
      "  2: p1 =   5.00553344 -> excess demand ->  1389.46580224\n",
      "  2: p2 =   2.00703918 -> excess demand ->  1734.18452208\n",
      "  3: p1 =   5.00833527 -> excess demand ->  1400.91730723\n",
      "  3: p2 =   2.01040972 -> excess demand ->  1685.27131126\n",
      "  4: p1 =   5.01115856 -> excess demand ->  1411.64436855\n",
      "  4: p2 =   2.01368682 -> excess demand ->  1638.54765189\n",
      "    ...\n",
      "2500: p1 =   6.47759971 -> excess demand ->    11.41316878\n",
      "2500: p2 =   2.61204736 -> excess demand ->     4.25784940\n",
      "5000: p1 =   6.48992621 -> excess demand ->     0.11792691\n",
      "5000: p2 =   2.61664590 -> excess demand ->     0.04399355\n",
      "7500: p1 =   6.49005381 -> excess demand ->     0.00122304\n",
      "7500: p2 =   2.61669350 -> excess demand ->     0.00045627\n",
      "10000: p1 =   6.49005513 -> excess demand ->     0.00001268\n",
      "10000: p2 =   2.61669400 -> excess demand ->     0.00000473\n",
      "12500: p1 =   6.49005515 -> excess demand ->     0.00000013\n",
      "12500: p2 =   2.61669400 -> excess demand ->     0.00000005\n",
      "13372: p1 =   6.49005515 -> excess demand ->     0.00000003\n",
      "13372: p2 =   2.61669400 -> excess demand ->     0.00000001\n"
     ]
    }
   ],
   "source": [
    "# find equilibrium function\n",
    "p1 = 5\n",
    "p2 = 2\n",
    "p3 = 1\n",
    "kappa = 0.1\n",
    "eps = 1e-8\n",
    "p1,p2 = find_equilibrium(betas,p1,p2,p3,e1,e2,e3,kappa=kappa,eps=eps)"
   ]
  },
  {
   "cell_type": "markdown",
   "metadata": {},
   "source": [
    "We thus get that the Walras-equilibrium price for good 1 is 6.49 and good 2 is 2.61"
   ]
  },
  {
   "cell_type": "markdown",
   "metadata": {},
   "source": [
    "**Question 4:** Plot the distribution of utility in the Walras-equilibrium and calculate its mean and variance."
   ]
  },
  {
   "cell_type": "markdown",
   "metadata": {},
   "source": [
    "To do that we will first define the utility function. Then we can calculate the utility for all consumers, goods and with newly found prices. We can then plot the distribution of the utility."
   ]
  },
  {
   "cell_type": "code",
   "execution_count": 29,
   "metadata": {},
   "outputs": [],
   "source": [
    "#Deine utility function\n",
    "def utility(betas, p1, p2, e1, e2, e3,gamma):    \n",
    "    I = p1*e1+p2*e2+e3\n",
    "    x1 = betas[:,0]*(I/p1)\n",
    "    x2 = betas[:,1]*(I/p2)\n",
    "    x3 = betas[:,2]*I\n",
    "    \n",
    "    return (x1**betas[:,0]*x2**betas[:,1]*x3**betas[:,2])**gamma"
   ]
  },
  {
   "cell_type": "code",
   "execution_count": 34,
   "metadata": {},
   "outputs": [
    {
     "data": {
      "text/plain": [
       "Text(0.5, 1.0, 'Utilities Distribution')"
      ]
     },
     "execution_count": 34,
     "metadata": {},
     "output_type": "execute_result"
    },
    {
     "data": {
      "image/png": "[encoded data removed]",
      "text/plain": [
       "<Figure size 432x288 with 1 Axes>"
      ]
     },
     "metadata": {
      "needs_background": "light"
     },
     "output_type": "display_data"
    }
   ],
   "source": [
    "u_vec = utility(betas,p1, p2, e1, e2, e3, gamma)\n",
    "\n",
    "plt.hist(u_vec,bins =500) #every bin represents 1000 consumers\n",
    "\n",
    "plt.xlabel('Utility')\n",
    "plt.ylabel('Consumers')\n",
    "plt.title('Utilities Distribution')"
   ]
  },
  {
   "cell_type": "code",
   "execution_count": 35,
   "metadata": {},
   "outputs": [
    {
     "data": {
      "text/plain": [
       "(1.0101644598643857, 0.31734020500163673)"
      ]
     },
     "execution_count": 35,
     "metadata": {},
     "output_type": "execute_result"
    }
   ],
   "source": [
    "## We can now caluculate the mean and variance.\n",
    "mean = np.mean(u_vec)\n",
    "variance = np.var(u_vec)\n",
    "\n",
    "mean,variance"
   ]
  },
  {
   "cell_type": "markdown",
   "metadata": {},
   "source": [
    "**Question 5:** Find the Walras-equilibrium prices if instead all endowments were distributed equally. Discuss the implied changes in the distribution of utility. Does the value of $\\gamma$ play a role for your conclusions?"
   ]
  },
  {
   "cell_type": "code",
   "execution_count": 32,
   "metadata": {},
   "outputs": [],
   "source": [
    "#The approch is the same, but with a new e. \n",
    "e = e1"
   ]
  },
  {
   "cell_type": "code",
   "execution_count": 33,
   "metadata": {},
   "outputs": [],
   "source": [
    "## The method used is greatly inspired from problemset 2 and 7 and lecture 3 and 4\n",
    "\n",
    "# a. Define demandfunctions\n",
    "\n",
    "def demand_g1_new(betas,e,p1_new,p2_new):\n",
    "\n",
    "    I = p1_new*e+p2_new*e+e\n",
    "    return betas[:,0]*I/p1_new\n",
    "\n",
    "def demand_g2_new(betas,e,p1_new,p2_new):\n",
    "    \n",
    "    I = p1_new*e+p2_new*e+e\n",
    "    return betas[:,1]*I/p2_new\n",
    "\n",
    "# As p3 = 1 we do not need to specify the demand of good 3"
   ]
  },
  {
   "cell_type": "code",
   "execution_count": 34,
   "metadata": {},
   "outputs": [],
   "source": [
    "# b. Calculate excess demand\n",
    "# excess demand good 1\n",
    "def excess_demand_g1_new(betas,e,p1_new,p2_new):\n",
    "    \"\"\"\n",
    "    Calculating excess demand of good 1\n",
    "    \n",
    "    Returns:\n",
    "        excess (float): Excess demand of good 1\n",
    "    \"\"\"\n",
    "    # i. sum array of demand\n",
    "    demand = np.sum(demand_g1_new(betas,e,p1_new,p2_new))\n",
    "    \n",
    "    # ii. sum array of supply\n",
    "    supply = np.sum(e)\n",
    "    \n",
    "    # iii. Calculate excess demand\n",
    "    excess_demand = demand - supply\n",
    "    \n",
    "    return excess_demand\n",
    "\n",
    "# excess demand good 2\n",
    "def excess_demand_g2_new(betas,e,p1_new,p2_new):\n",
    "    \n",
    "    # i. sum array of demand\n",
    "    demand = np.sum(demand_g2_new(betas,e,p1_new,p2_new))\n",
    "    \n",
    "    # ii. sum array of supply\n",
    "    supply = np.sum(e)\n",
    "    \n",
    "     # iii. Calculate excess demand\n",
    "    excess_demand = demand - supply\n",
    "    \n",
    "    return excess_demand"
   ]
  },
  {
   "cell_type": "code",
   "execution_count": 37,
   "metadata": {},
   "outputs": [],
   "source": [
    "\n",
    "# equilibrium function\n",
    "def find_equilibrium_new(betas,p1_new,p2_new,p3_new,e,kappa=0.5,eps=1e-8,maxiter=50000):\n",
    "    \n",
    "    t = 0\n",
    "    while True:\n",
    "        \n",
    "        # a. step 1: excess demand\n",
    "        Z1 = excess_demand_g1_new(betas,e,p1_new,p2_new)\n",
    "        Z2 = excess_demand_g2_new(betas,e,p1_new,p2_new)\n",
    "        \n",
    "        # b. step 2: stop?\n",
    "        if (np.abs(Z1) < eps or np.abs(Z2) < eps) or t >= maxiter:\n",
    "            print(f'{t:3d}: p1_new = {p1:12.8f} -> excess demand -> {Z1:14.8f}')\n",
    "            print(f'{t:3d}: p2_new = {p2:12.8f} -> excess demand -> {Z2:14.8f}')\n",
    "            break\n",
    "        \n",
    "        # c. step 3: update p1 and p2\n",
    "        p1_new = p1_new + kappa*Z1/N\n",
    "        p2_new = p2_new + kappa*Z2/N\n",
    "        \n",
    "        # d. step 4: return\n",
    "        if t < 5 or t%2500 == 0:\n",
    "            print(f'{t:3d}: p1_new = {p1:12.8f} -> excess demand -> {Z1:14.8f}')\n",
    "            print(f'{t:3d}: p2_new = {p2:12.8f} -> excess demand -> {Z2:14.8f}')\n",
    "        elif t == 5:\n",
    "            print ('    ...')\n",
    "            \n",
    "         \n",
    "        t += 1 # Updating iteration counter\n",
    "    \n",
    "    return p1_new, p2_new"
   ]
  },
  {
   "cell_type": "code",
   "execution_count": 38,
   "metadata": {},
   "outputs": [
    {
     "name": "stdout",
     "output_type": "stream",
     "text": [
      "  0: p1_new =   6.49000000 -> excess demand -> 98641966.82162084\n",
      "  0: p2_new =   2.61700000 -> excess demand -> 75732668.40843812\n",
      "  1: p1_new =   6.49000000 -> excess demand -> 101167836.37735206\n",
      "  1: p2_new =   2.61700000 -> excess demand -> 53035817.46182784\n",
      "  2: p1_new =   6.49000000 -> excess demand -> 94134619.03151079\n",
      "  2: p2_new =   2.61700000 -> excess demand -> 58723633.64492429\n",
      "  3: p1_new =   6.49000000 -> excess demand -> 93753517.80718455\n",
      "  3: p2_new =   2.61700000 -> excess demand -> 59081961.66602881\n",
      "  4: p1_new =   6.49000000 -> excess demand -> 93645553.44944049\n",
      "  4: p2_new =   2.61700000 -> excess demand -> 59181379.87152798\n",
      "    ...\n",
      "2500: p1_new =   6.49000000 -> excess demand -> 93519675.86399658\n",
      "2500: p2_new =   2.61700000 -> excess demand -> 59282896.44600989\n",
      "5000: p1_new =   6.49000000 -> excess demand -> 93519663.44944806\n",
      "5000: p2_new =   2.61700000 -> excess demand -> 59282888.86201406\n",
      "7500: p1_new =   6.49000000 -> excess demand -> 93519659.33700047\n",
      "7500: p2_new =   2.61700000 -> excess demand -> 59282886.30799633\n",
      "10000: p1_new =   6.49000000 -> excess demand -> 93519657.28560092\n",
      "10000: p2_new =   2.61700000 -> excess demand -> 59282885.02610988\n",
      "12500: p1_new =   6.49000000 -> excess demand -> 93519656.05630459\n",
      "12500: p2_new =   2.61700000 -> excess demand -> 59282884.25541750\n",
      "15000: p1_new =   6.49000000 -> excess demand -> 93519655.23741727\n",
      "15000: p2_new =   2.61700000 -> excess demand -> 59282883.74097189\n",
      "17500: p1_new =   6.49000000 -> excess demand -> 93519654.65281247\n",
      "17500: p2_new =   2.61700000 -> excess demand -> 59282883.37319253\n",
      "20000: p1_new =   6.49000000 -> excess demand -> 93519654.21453121\n",
      "20000: p2_new =   2.61700000 -> excess demand -> 59282883.09718374\n",
      "22500: p1_new =   6.49000000 -> excess demand -> 93519653.87374768\n",
      "22500: p2_new =   2.61700000 -> excess demand -> 59282882.88240725\n",
      "25000: p1_new =   6.49000000 -> excess demand -> 93519653.60118535\n",
      "25000: p2_new =   2.61700000 -> excess demand -> 59282882.71052083\n",
      "27500: p1_new =   6.49000000 -> excess demand -> 93519653.37822227\n",
      "27500: p2_new =   2.61700000 -> excess demand -> 59282882.56984354\n",
      "30000: p1_new =   6.49000000 -> excess demand -> 93519653.19244890\n",
      "30000: p2_new =   2.61700000 -> excess demand -> 59282882.45258294\n",
      "32500: p1_new =   6.49000000 -> excess demand -> 93519653.03527689\n",
      "32500: p2_new =   2.61700000 -> excess demand -> 59282882.35334138\n",
      "35000: p1_new =   6.49000000 -> excess demand -> 93519652.90057306\n",
      "35000: p2_new =   2.61700000 -> excess demand -> 59282882.26826198\n",
      "37500: p1_new =   6.49000000 -> excess demand -> 93519652.78384110\n",
      "37500: p2_new =   2.61700000 -> excess demand -> 59282882.19451497\n",
      "40000: p1_new =   6.49000000 -> excess demand -> 93519652.68170929\n",
      "40000: p2_new =   2.61700000 -> excess demand -> 59282882.12997764\n",
      "42500: p1_new =   6.49000000 -> excess demand -> 93519652.59159958\n",
      "42500: p2_new =   2.61700000 -> excess demand -> 59282882.07302627\n",
      "45000: p1_new =   6.49000000 -> excess demand -> 93519652.51150730\n",
      "45000: p2_new =   2.61700000 -> excess demand -> 59282882.02239748\n",
      "47500: p1_new =   6.49000000 -> excess demand -> 93519652.43985005\n",
      "47500: p2_new =   2.61700000 -> excess demand -> 59282881.97709379\n",
      "50000: p1_new =   6.49000000 -> excess demand -> 93519652.37536184\n",
      "50000: p2_new =   2.61700000 -> excess demand -> 59282881.93631705\n"
     ]
    }
   ],
   "source": [
    "# find equilibrium function\n",
    "p1_new = 5\n",
    "p2_new = 2\n",
    "p3_new = 1\n",
    "kappa = 0.5\n",
    "eps = 1e-8\n",
    "p1_new,p2_new = find_equilibrium_new(betas,p1_new,p2_new,p3_new,e,kappa=0.5,eps=1e-8,maxiter=50000)"
   ]
  },
  {
   "cell_type": "markdown",
   "metadata": {},
   "source": [
    "So we think that we have the right approach by defining a e that such all have the same endowment, but somthing is going wrong and  we can not find the error."
   ]
  }
 ],
 "metadata": {
  "kernelspec": {
   "display_name": "Python 3",
   "language": "python",
   "name": "python3"
  },
  "language_info": {
   "codemirror_mode": {
    "name": "ipython",
    "version": 3
   },
   "file_extension": ".py",
   "mimetype": "text/x-python",
   "name": "python",
   "nbconvert_exporter": "python",
   "pygments_lexer": "ipython3",
   "version": "3.7.1"
  },
  "toc-autonumbering": false
 },
 "nbformat": 4,
 "nbformat_minor": 2
}
